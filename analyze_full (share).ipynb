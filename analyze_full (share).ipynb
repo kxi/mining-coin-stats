{
 "cells": [
  {
   "cell_type": "code",
   "execution_count": 1,
   "metadata": {},
   "outputs": [],
   "source": [
    "import os\n",
    "import pandas as pd\n",
    "import numpy as np\n",
    "import matplotlib.pyplot as plt"
   ]
  },
  {
   "cell_type": "code",
   "execution_count": 2,
   "metadata": {},
   "outputs": [],
   "source": [
    "COIN_BLOCK_INFO_PATH = \"coin_block_info\"\n",
    "\n",
    "coin = \"EXVO\"\n",
    "coin_per_block = 3.8\n",
    "our_nethash = 1600000000\n",
    "\n",
    "# coin = \"RVN\"\n",
    "# coin = \"PGN\"\n",
    "# coin = \"LUX\"\n",
    "# coin = \"PROTON\"\n",
    "# coin = \"RDEN\"\n",
    "\n",
    "fname = os.path.join(COIN_BLOCK_INFO_PATH, coin+\"_block_info.csv\")"
   ]
  },
  {
   "cell_type": "code",
   "execution_count": 3,
   "metadata": {},
   "outputs": [],
   "source": [
    "df = pd.read_csv(fname)"
   ]
  },
  {
   "cell_type": "code",
   "execution_count": 4,
   "metadata": {},
   "outputs": [],
   "source": [
    "df['date'] = pd.to_datetime(df['time'],unit='s')"
   ]
  },
  {
   "cell_type": "code",
   "execution_count": 5,
   "metadata": {},
   "outputs": [
    {
     "name": "stdout",
     "output_type": "stream",
     "text": [
      "Number of Blocks: 2000\n"
     ]
    }
   ],
   "source": [
    "print(\"Number of Blocks: {}\".format(df.count()[0]))"
   ]
  },
  {
   "cell_type": "code",
   "execution_count": 6,
   "metadata": {},
   "outputs": [
    {
     "name": "stdout",
     "output_type": "stream",
     "text": [
      "Latest Block: 46954\n"
     ]
    }
   ],
   "source": [
    "print(\"Latest Block: {}\".format(int(df[\"height\"][0])))"
   ]
  },
  {
   "cell_type": "code",
   "execution_count": 7,
   "metadata": {},
   "outputs": [
    {
     "data": {
      "text/html": [
       "<div>\n",
       "<style scoped>\n",
       "    .dataframe tbody tr th:only-of-type {\n",
       "        vertical-align: middle;\n",
       "    }\n",
       "\n",
       "    .dataframe tbody tr th {\n",
       "        vertical-align: top;\n",
       "    }\n",
       "\n",
       "    .dataframe thead th {\n",
       "        text-align: right;\n",
       "    }\n",
       "</style>\n",
       "<table border=\"1\" class=\"dataframe\">\n",
       "  <thead>\n",
       "    <tr style=\"text-align: right;\">\n",
       "      <th></th>\n",
       "      <th>difficulty</th>\n",
       "      <th>height</th>\n",
       "      <th>nonce</th>\n",
       "      <th>time</th>\n",
       "      <th>date</th>\n",
       "    </tr>\n",
       "  </thead>\n",
       "  <tbody>\n",
       "    <tr>\n",
       "      <th>0</th>\n",
       "      <td>257.019686</td>\n",
       "      <td>46954.0</td>\n",
       "      <td>3.739185e+09</td>\n",
       "      <td>1.525611e+09</td>\n",
       "      <td>2018-05-06 12:43:38</td>\n",
       "    </tr>\n",
       "    <tr>\n",
       "      <th>1</th>\n",
       "      <td>297.242479</td>\n",
       "      <td>46953.0</td>\n",
       "      <td>4.020846e+09</td>\n",
       "      <td>1.525611e+09</td>\n",
       "      <td>2018-05-06 12:42:31</td>\n",
       "    </tr>\n",
       "    <tr>\n",
       "      <th>2</th>\n",
       "      <td>300.969808</td>\n",
       "      <td>46952.0</td>\n",
       "      <td>9.059369e+08</td>\n",
       "      <td>1.525611e+09</td>\n",
       "      <td>2018-05-06 12:42:13</td>\n",
       "    </tr>\n",
       "    <tr>\n",
       "      <th>3</th>\n",
       "      <td>245.259265</td>\n",
       "      <td>46951.0</td>\n",
       "      <td>4.137156e+09</td>\n",
       "      <td>1.525610e+09</td>\n",
       "      <td>2018-05-06 12:38:57</td>\n",
       "    </tr>\n",
       "    <tr>\n",
       "      <th>4</th>\n",
       "      <td>221.630162</td>\n",
       "      <td>46950.0</td>\n",
       "      <td>4.063297e+09</td>\n",
       "      <td>1.525610e+09</td>\n",
       "      <td>2018-05-06 12:38:19</td>\n",
       "    </tr>\n",
       "  </tbody>\n",
       "</table>\n",
       "</div>"
      ],
      "text/plain": [
       "   difficulty   height         nonce          time                date\n",
       "0  257.019686  46954.0  3.739185e+09  1.525611e+09 2018-05-06 12:43:38\n",
       "1  297.242479  46953.0  4.020846e+09  1.525611e+09 2018-05-06 12:42:31\n",
       "2  300.969808  46952.0  9.059369e+08  1.525611e+09 2018-05-06 12:42:13\n",
       "3  245.259265  46951.0  4.137156e+09  1.525610e+09 2018-05-06 12:38:57\n",
       "4  221.630162  46950.0  4.063297e+09  1.525610e+09 2018-05-06 12:38:19"
      ]
     },
     "execution_count": 7,
     "metadata": {},
     "output_type": "execute_result"
    }
   ],
   "source": [
    "df.head(5)"
   ]
  },
  {
   "cell_type": "code",
   "execution_count": 8,
   "metadata": {},
   "outputs": [
    {
     "data": {
      "text/html": [
       "<div>\n",
       "<style scoped>\n",
       "    .dataframe tbody tr th:only-of-type {\n",
       "        vertical-align: middle;\n",
       "    }\n",
       "\n",
       "    .dataframe tbody tr th {\n",
       "        vertical-align: top;\n",
       "    }\n",
       "\n",
       "    .dataframe thead th {\n",
       "        text-align: right;\n",
       "    }\n",
       "</style>\n",
       "<table border=\"1\" class=\"dataframe\">\n",
       "  <thead>\n",
       "    <tr style=\"text-align: right;\">\n",
       "      <th></th>\n",
       "      <th>height</th>\n",
       "      <th>time</th>\n",
       "    </tr>\n",
       "  </thead>\n",
       "  <tbody>\n",
       "    <tr>\n",
       "      <th>0</th>\n",
       "      <td>46954.0</td>\n",
       "      <td>1.525611e+09</td>\n",
       "    </tr>\n",
       "    <tr>\n",
       "      <th>1</th>\n",
       "      <td>46953.0</td>\n",
       "      <td>1.525611e+09</td>\n",
       "    </tr>\n",
       "    <tr>\n",
       "      <th>2</th>\n",
       "      <td>46952.0</td>\n",
       "      <td>1.525611e+09</td>\n",
       "    </tr>\n",
       "  </tbody>\n",
       "</table>\n",
       "</div>"
      ],
      "text/plain": [
       "    height          time\n",
       "0  46954.0  1.525611e+09\n",
       "1  46953.0  1.525611e+09\n",
       "2  46952.0  1.525611e+09"
      ]
     },
     "execution_count": 8,
     "metadata": {},
     "output_type": "execute_result"
    }
   ],
   "source": [
    "df_block_rate = df[['height','time']]\n",
    "df_block_rate.head(3)"
   ]
  },
  {
   "cell_type": "code",
   "execution_count": 9,
   "metadata": {},
   "outputs": [
    {
     "name": "stdout",
     "output_type": "stream",
     "text": [
      "MA Windows = 400\n"
     ]
    }
   ],
   "source": [
    "MA_window = min(400, int((df_block_rate.count()[0]-1)*0.5))\n",
    "print(\"MA Windows = {}\".format(MA_window))"
   ]
  },
  {
   "cell_type": "code",
   "execution_count": 10,
   "metadata": {},
   "outputs": [
    {
     "data": {
      "text/plain": [
       "height    2000\n",
       "time      2000\n",
       "dtype: int64"
      ]
     },
     "execution_count": 10,
     "metadata": {},
     "output_type": "execute_result"
    }
   ],
   "source": [
    "df_block_rate.count()"
   ]
  },
  {
   "cell_type": "code",
   "execution_count": 11,
   "metadata": {},
   "outputs": [
    {
     "data": {
      "text/html": [
       "<div>\n",
       "<style scoped>\n",
       "    .dataframe tbody tr th:only-of-type {\n",
       "        vertical-align: middle;\n",
       "    }\n",
       "\n",
       "    .dataframe tbody tr th {\n",
       "        vertical-align: top;\n",
       "    }\n",
       "\n",
       "    .dataframe thead th {\n",
       "        text-align: right;\n",
       "    }\n",
       "</style>\n",
       "<table border=\"1\" class=\"dataframe\">\n",
       "  <thead>\n",
       "    <tr style=\"text-align: right;\">\n",
       "      <th></th>\n",
       "      <th>height</th>\n",
       "      <th>time</th>\n",
       "    </tr>\n",
       "  </thead>\n",
       "  <tbody>\n",
       "    <tr>\n",
       "      <th>0</th>\n",
       "      <td>400.0</td>\n",
       "      <td>26648.0</td>\n",
       "    </tr>\n",
       "    <tr>\n",
       "      <th>1</th>\n",
       "      <td>400.0</td>\n",
       "      <td>26627.0</td>\n",
       "    </tr>\n",
       "    <tr>\n",
       "      <th>2</th>\n",
       "      <td>400.0</td>\n",
       "      <td>26617.0</td>\n",
       "    </tr>\n",
       "    <tr>\n",
       "      <th>3</th>\n",
       "      <td>400.0</td>\n",
       "      <td>26447.0</td>\n",
       "    </tr>\n",
       "    <tr>\n",
       "      <th>4</th>\n",
       "      <td>400.0</td>\n",
       "      <td>26454.0</td>\n",
       "    </tr>\n",
       "  </tbody>\n",
       "</table>\n",
       "</div>"
      ],
      "text/plain": [
       "   height     time\n",
       "0   400.0  26648.0\n",
       "1   400.0  26627.0\n",
       "2   400.0  26617.0\n",
       "3   400.0  26447.0\n",
       "4   400.0  26454.0"
      ]
     },
     "execution_count": 11,
     "metadata": {},
     "output_type": "execute_result"
    }
   ],
   "source": [
    "df_block_rate = df_block_rate.diff(-MA_window)\n",
    "df_block_rate.head(5)"
   ]
  },
  {
   "cell_type": "code",
   "execution_count": 12,
   "metadata": {},
   "outputs": [],
   "source": [
    "df_block_rate['block_per_day']=df_block_rate['height']/df_block_rate['time']*3600*24"
   ]
  },
  {
   "cell_type": "code",
   "execution_count": 13,
   "metadata": {},
   "outputs": [
    {
     "data": {
      "text/html": [
       "<div>\n",
       "<style scoped>\n",
       "    .dataframe tbody tr th:only-of-type {\n",
       "        vertical-align: middle;\n",
       "    }\n",
       "\n",
       "    .dataframe tbody tr th {\n",
       "        vertical-align: top;\n",
       "    }\n",
       "\n",
       "    .dataframe thead th {\n",
       "        text-align: right;\n",
       "    }\n",
       "</style>\n",
       "<table border=\"1\" class=\"dataframe\">\n",
       "  <thead>\n",
       "    <tr style=\"text-align: right;\">\n",
       "      <th></th>\n",
       "      <th>height</th>\n",
       "      <th>time</th>\n",
       "      <th>block_per_day</th>\n",
       "    </tr>\n",
       "  </thead>\n",
       "  <tbody>\n",
       "    <tr>\n",
       "      <th>0</th>\n",
       "      <td>400.0</td>\n",
       "      <td>26648.0</td>\n",
       "      <td>1296.907835</td>\n",
       "    </tr>\n",
       "    <tr>\n",
       "      <th>1</th>\n",
       "      <td>400.0</td>\n",
       "      <td>26627.0</td>\n",
       "      <td>1297.930672</td>\n",
       "    </tr>\n",
       "    <tr>\n",
       "      <th>2</th>\n",
       "      <td>400.0</td>\n",
       "      <td>26617.0</td>\n",
       "      <td>1298.418304</td>\n",
       "    </tr>\n",
       "    <tr>\n",
       "      <th>3</th>\n",
       "      <td>400.0</td>\n",
       "      <td>26447.0</td>\n",
       "      <td>1306.764472</td>\n",
       "    </tr>\n",
       "    <tr>\n",
       "      <th>4</th>\n",
       "      <td>400.0</td>\n",
       "      <td>26454.0</td>\n",
       "      <td>1306.418689</td>\n",
       "    </tr>\n",
       "  </tbody>\n",
       "</table>\n",
       "</div>"
      ],
      "text/plain": [
       "   height     time  block_per_day\n",
       "0   400.0  26648.0    1296.907835\n",
       "1   400.0  26627.0    1297.930672\n",
       "2   400.0  26617.0    1298.418304\n",
       "3   400.0  26447.0    1306.764472\n",
       "4   400.0  26454.0    1306.418689"
      ]
     },
     "execution_count": 13,
     "metadata": {},
     "output_type": "execute_result"
    }
   ],
   "source": [
    "df_block_rate.head(5)"
   ]
  },
  {
   "cell_type": "code",
   "execution_count": 14,
   "metadata": {},
   "outputs": [
    {
     "name": "stdout",
     "output_type": "stream",
     "text": [
      "1600\n"
     ]
    }
   ],
   "source": [
    "df_block_rate_count = df_block_rate.count()[0]\n",
    "print(df_block_rate_count)"
   ]
  },
  {
   "cell_type": "code",
   "execution_count": 15,
   "metadata": {},
   "outputs": [],
   "source": [
    "df_block_rate_full = pd.concat([df[\"height\"].head(df_block_rate_count), df_block_rate['block_per_day']],axis=1)"
   ]
  },
  {
   "cell_type": "code",
   "execution_count": 16,
   "metadata": {},
   "outputs": [
    {
     "data": {
      "text/html": [
       "<div>\n",
       "<style scoped>\n",
       "    .dataframe tbody tr th:only-of-type {\n",
       "        vertical-align: middle;\n",
       "    }\n",
       "\n",
       "    .dataframe tbody tr th {\n",
       "        vertical-align: top;\n",
       "    }\n",
       "\n",
       "    .dataframe thead th {\n",
       "        text-align: right;\n",
       "    }\n",
       "</style>\n",
       "<table border=\"1\" class=\"dataframe\">\n",
       "  <thead>\n",
       "    <tr style=\"text-align: right;\">\n",
       "      <th></th>\n",
       "      <th>height</th>\n",
       "      <th>block_per_day</th>\n",
       "    </tr>\n",
       "  </thead>\n",
       "  <tbody>\n",
       "    <tr>\n",
       "      <th>0</th>\n",
       "      <td>46954.0</td>\n",
       "      <td>1296.907835</td>\n",
       "    </tr>\n",
       "    <tr>\n",
       "      <th>1</th>\n",
       "      <td>46953.0</td>\n",
       "      <td>1297.930672</td>\n",
       "    </tr>\n",
       "    <tr>\n",
       "      <th>2</th>\n",
       "      <td>46952.0</td>\n",
       "      <td>1298.418304</td>\n",
       "    </tr>\n",
       "  </tbody>\n",
       "</table>\n",
       "</div>"
      ],
      "text/plain": [
       "    height  block_per_day\n",
       "0  46954.0    1296.907835\n",
       "1  46953.0    1297.930672\n",
       "2  46952.0    1298.418304"
      ]
     },
     "execution_count": 16,
     "metadata": {},
     "output_type": "execute_result"
    }
   ],
   "source": [
    "df_block_rate_full.head(3)"
   ]
  },
  {
   "cell_type": "code",
   "execution_count": 17,
   "metadata": {},
   "outputs": [],
   "source": [
    "block_speed_latest = int(df_block_rate['block_per_day'][0])"
   ]
  },
  {
   "cell_type": "code",
   "execution_count": 18,
   "metadata": {},
   "outputs": [
    {
     "name": "stdout",
     "output_type": "stream",
     "text": [
      "Coin [EXVO] Block Speed is 1296 Blocks/Day\n"
     ]
    }
   ],
   "source": [
    "print(\"Coin [{}] Block Speed is {} Blocks/Day\".format(coin, block_speed_latest))"
   ]
  },
  {
   "cell_type": "code",
   "execution_count": 19,
   "metadata": {},
   "outputs": [],
   "source": [
    "COIN_NETHASH_INFO_PATH = \"coin_nethash_info\"\n",
    "fname = os.path.join(COIN_NETHASH_INFO_PATH, coin+\"_nethash_info.csv\")"
   ]
  },
  {
   "cell_type": "code",
   "execution_count": 20,
   "metadata": {},
   "outputs": [],
   "source": [
    "df_nethash = pd.read_csv(fname)"
   ]
  },
  {
   "cell_type": "code",
   "execution_count": 21,
   "metadata": {},
   "outputs": [
    {
     "name": "stdout",
     "output_type": "stream",
     "text": [
      "Number of Nethash Sample: 636\n"
     ]
    }
   ],
   "source": [
    "print(\"Number of Nethash Sample: {}\".format(df_nethash.count()[0]))"
   ]
  },
  {
   "cell_type": "code",
   "execution_count": 22,
   "metadata": {},
   "outputs": [
    {
     "name": "stdout",
     "output_type": "stream",
     "text": [
      "Latest Block: 46954\n"
     ]
    }
   ],
   "source": [
    "print(\"Latest Block: {}\".format(int(df_nethash[\"height\"][0])))"
   ]
  },
  {
   "cell_type": "code",
   "execution_count": 23,
   "metadata": {},
   "outputs": [
    {
     "data": {
      "text/html": [
       "<div>\n",
       "<style scoped>\n",
       "    .dataframe tbody tr th:only-of-type {\n",
       "        vertical-align: middle;\n",
       "    }\n",
       "\n",
       "    .dataframe tbody tr th {\n",
       "        vertical-align: top;\n",
       "    }\n",
       "\n",
       "    .dataframe thead th {\n",
       "        text-align: right;\n",
       "    }\n",
       "</style>\n",
       "<table border=\"1\" class=\"dataframe\">\n",
       "  <thead>\n",
       "    <tr style=\"text-align: right;\">\n",
       "      <th></th>\n",
       "      <th>height</th>\n",
       "      <th>nethash</th>\n",
       "    </tr>\n",
       "  </thead>\n",
       "  <tbody>\n",
       "    <tr>\n",
       "      <th>0</th>\n",
       "      <td>46954</td>\n",
       "      <td>14162187127</td>\n",
       "    </tr>\n",
       "    <tr>\n",
       "      <th>1</th>\n",
       "      <td>46953</td>\n",
       "      <td>14353153412</td>\n",
       "    </tr>\n",
       "    <tr>\n",
       "      <th>2</th>\n",
       "      <td>46951</td>\n",
       "      <td>14608718939</td>\n",
       "    </tr>\n",
       "    <tr>\n",
       "      <th>3</th>\n",
       "      <td>46950</td>\n",
       "      <td>14741146125</td>\n",
       "    </tr>\n",
       "    <tr>\n",
       "      <th>4</th>\n",
       "      <td>46949</td>\n",
       "      <td>14568178784</td>\n",
       "    </tr>\n",
       "  </tbody>\n",
       "</table>\n",
       "</div>"
      ],
      "text/plain": [
       "   height      nethash\n",
       "0   46954  14162187127\n",
       "1   46953  14353153412\n",
       "2   46951  14608718939\n",
       "3   46950  14741146125\n",
       "4   46949  14568178784"
      ]
     },
     "execution_count": 23,
     "metadata": {},
     "output_type": "execute_result"
    }
   ],
   "source": [
    "df_nethash.head(5)"
   ]
  },
  {
   "cell_type": "code",
   "execution_count": 24,
   "metadata": {},
   "outputs": [],
   "source": [
    "df_nethash_block = pd.merge(df_block_rate_full, df_nethash, how='inner', on='height')"
   ]
  },
  {
   "cell_type": "code",
   "execution_count": 25,
   "metadata": {},
   "outputs": [
    {
     "data": {
      "text/html": [
       "<div>\n",
       "<style scoped>\n",
       "    .dataframe tbody tr th:only-of-type {\n",
       "        vertical-align: middle;\n",
       "    }\n",
       "\n",
       "    .dataframe tbody tr th {\n",
       "        vertical-align: top;\n",
       "    }\n",
       "\n",
       "    .dataframe thead th {\n",
       "        text-align: right;\n",
       "    }\n",
       "</style>\n",
       "<table border=\"1\" class=\"dataframe\">\n",
       "  <thead>\n",
       "    <tr style=\"text-align: right;\">\n",
       "      <th></th>\n",
       "      <th>height</th>\n",
       "      <th>block_per_day</th>\n",
       "      <th>nethash</th>\n",
       "    </tr>\n",
       "  </thead>\n",
       "  <tbody>\n",
       "    <tr>\n",
       "      <th>0</th>\n",
       "      <td>46954</td>\n",
       "      <td>1296.907835</td>\n",
       "      <td>14162187127</td>\n",
       "    </tr>\n",
       "    <tr>\n",
       "      <th>1</th>\n",
       "      <td>46953</td>\n",
       "      <td>1297.930672</td>\n",
       "      <td>14353153412</td>\n",
       "    </tr>\n",
       "    <tr>\n",
       "      <th>2</th>\n",
       "      <td>46951</td>\n",
       "      <td>1306.764472</td>\n",
       "      <td>14608718939</td>\n",
       "    </tr>\n",
       "  </tbody>\n",
       "</table>\n",
       "</div>"
      ],
      "text/plain": [
       "  height  block_per_day      nethash\n",
       "0  46954    1296.907835  14162187127\n",
       "1  46953    1297.930672  14353153412\n",
       "2  46951    1306.764472  14608718939"
      ]
     },
     "execution_count": 25,
     "metadata": {},
     "output_type": "execute_result"
    }
   ],
   "source": [
    "df_nethash_block.head(3)"
   ]
  },
  {
   "cell_type": "code",
   "execution_count": 26,
   "metadata": {},
   "outputs": [],
   "source": [
    "df_nethash_block[\"profit\"]=df_nethash_block[\"block_per_day\"]*our_nethash/df_nethash_block[\"nethash\"]*coin_per_block\n",
    "df_nethash_block_profit = df_nethash_block"
   ]
  },
  {
   "cell_type": "code",
   "execution_count": 27,
   "metadata": {},
   "outputs": [
    {
     "data": {
      "text/html": [
       "<div>\n",
       "<style scoped>\n",
       "    .dataframe tbody tr th:only-of-type {\n",
       "        vertical-align: middle;\n",
       "    }\n",
       "\n",
       "    .dataframe tbody tr th {\n",
       "        vertical-align: top;\n",
       "    }\n",
       "\n",
       "    .dataframe thead th {\n",
       "        text-align: right;\n",
       "    }\n",
       "</style>\n",
       "<table border=\"1\" class=\"dataframe\">\n",
       "  <thead>\n",
       "    <tr style=\"text-align: right;\">\n",
       "      <th></th>\n",
       "      <th>height</th>\n",
       "      <th>block_per_day</th>\n",
       "      <th>nethash</th>\n",
       "      <th>profit</th>\n",
       "    </tr>\n",
       "  </thead>\n",
       "  <tbody>\n",
       "    <tr>\n",
       "      <th>0</th>\n",
       "      <td>46954</td>\n",
       "      <td>1296.907835</td>\n",
       "      <td>14162187127</td>\n",
       "      <td>556.778382</td>\n",
       "    </tr>\n",
       "    <tr>\n",
       "      <th>1</th>\n",
       "      <td>46953</td>\n",
       "      <td>1297.930672</td>\n",
       "      <td>14353153412</td>\n",
       "      <td>549.803814</td>\n",
       "    </tr>\n",
       "    <tr>\n",
       "      <th>2</th>\n",
       "      <td>46951</td>\n",
       "      <td>1306.764472</td>\n",
       "      <td>14608718939</td>\n",
       "      <td>543.862061</td>\n",
       "    </tr>\n",
       "    <tr>\n",
       "      <th>3</th>\n",
       "      <td>46950</td>\n",
       "      <td>1306.418689</td>\n",
       "      <td>14741146125</td>\n",
       "      <td>538.833654</td>\n",
       "    </tr>\n",
       "    <tr>\n",
       "      <th>4</th>\n",
       "      <td>46949</td>\n",
       "      <td>1306.764472</td>\n",
       "      <td>14568178784</td>\n",
       "      <td>545.375514</td>\n",
       "    </tr>\n",
       "  </tbody>\n",
       "</table>\n",
       "</div>"
      ],
      "text/plain": [
       "  height  block_per_day      nethash      profit\n",
       "0  46954    1296.907835  14162187127  556.778382\n",
       "1  46953    1297.930672  14353153412  549.803814\n",
       "2  46951    1306.764472  14608718939  543.862061\n",
       "3  46950    1306.418689  14741146125  538.833654\n",
       "4  46949    1306.764472  14568178784  545.375514"
      ]
     },
     "execution_count": 27,
     "metadata": {},
     "output_type": "execute_result"
    }
   ],
   "source": [
    "df_nethash_block_profit.head(5)"
   ]
  },
  {
   "cell_type": "code",
   "execution_count": 28,
   "metadata": {},
   "outputs": [
    {
     "data": {
      "image/png": "[encoded data removed]",
      "text/plain": [
       "<Figure size 1440x1080 with 3 Axes>"
      ]
     },
     "metadata": {},
     "output_type": "display_data"
    }
   ],
   "source": [
    "#df_block_rate_count\n",
    "fig = plt.figure(figsize=(20,15))\n",
    "plt.subplot(3, 1, 1)\n",
    "plt.plot(df_nethash_block_profit['height'], df_nethash_block_profit['block_per_day'])\n",
    "plt.plot(df_nethash_block_profit['height'], \n",
    "         [np.mean(df_nethash_block_profit['block_per_day'])]*df_nethash_block_profit['height'].count(), \n",
    "         linestyle = '--', linewidth = 1)\n",
    "\n",
    "plt.title('Block Speed')\n",
    "plt.xlabel('Block ID')\n",
    "plt.ylabel('Block/Day')\n",
    "\n",
    "plt.subplot(3, 1, 2)\n",
    "plt.plot(df_nethash_block_profit['height'], df_nethash_block_profit['nethash']/(10**9), color='red')\n",
    "plt.title('Globle Nethash (GH)')\n",
    "plt.xlabel('Block ID')\n",
    "plt.ylabel('Nethash')\n",
    "\n",
    "plt.subplot(3, 1, 3)\n",
    "plt.plot(df_nethash_block_profit['height'], df_nethash_block_profit['profit'], color='blue')\n",
    "plt.title('Our Profit (Coin/Day)')\n",
    "plt.xlabel('Block ID')\n",
    "plt.ylabel('Nethash')\n",
    "\n",
    "plt.show()\n"
   ]
  },
  {
   "cell_type": "code",
   "execution_count": null,
   "metadata": {},
   "outputs": [],
   "source": []
  }
 ],
 "metadata": {
  "kernelspec": {
   "display_name": "Python 2",
   "language": "python",
   "name": "python2"
  },
  "language_info": {
   "codemirror_mode": {
    "name": "ipython",
    "version": 2
   },
   "file_extension": ".py",
   "mimetype": "text/x-python",
   "name": "python",
   "nbconvert_exporter": "python",
   "pygments_lexer": "ipython2",
   "version": "2.7.14"
  }
 },
 "nbformat": 4,
 "nbformat_minor": 2
}
