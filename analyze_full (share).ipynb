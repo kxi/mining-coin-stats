{
 "cells": [
  {
   "cell_type": "code",
   "execution_count": 1,
   "metadata": {},
   "outputs": [],
   "source": [
    "import os\n",
    "import pandas as pd\n",
    "import numpy as np\n",
    "import matplotlib.pyplot as plt"
   ]
  },
  {
   "cell_type": "code",
   "execution_count": 2,
   "metadata": {},
   "outputs": [],
   "source": [
    "COIN_BLOCK_INFO_PATH = \"coin_block_info\"\n",
    "\n",
    "coin = \"EXVO\"\n",
    "coin_per_block = 3.8\n",
    "our_nethash = 1600000000\n",
    "\n",
    "# coin = \"RVN\"\n",
    "# coin = \"PGN\"\n",
    "# coin = \"LUX\"\n",
    "# coin = \"PROTON\"\n",
    "# coin = \"RDEN\"\n",
    "\n",
    "fname = os.path.join(COIN_BLOCK_INFO_PATH, coin+\"_block_info.csv\")"
   ]
  },
  {
   "cell_type": "code",
   "execution_count": 3,
   "metadata": {},
   "outputs": [],
   "source": [
    "df = pd.read_csv(fname)"
   ]
  },
  {
   "cell_type": "code",
   "execution_count": 4,
   "metadata": {},
   "outputs": [],
   "source": [
    "df['date'] = pd.to_datetime(df['time'],unit='s')"
   ]
  },
  {
   "cell_type": "code",
   "execution_count": 5,
   "metadata": {},
   "outputs": [
    {
     "name": "stdout",
     "output_type": "stream",
     "text": [
      "Number of Blocks: 2000\n"
     ]
    }
   ],
   "source": [
    "print(\"Number of Blocks: {}\".format(df.count()[0]))"
   ]
  },
  {
   "cell_type": "code",
   "execution_count": 6,
   "metadata": {},
   "outputs": [
    {
     "name": "stdout",
     "output_type": "stream",
     "text": [
      "Latest Block: 47486\n"
     ]
    }
   ],
   "source": [
    "print(\"Latest Block: {}\".format(int(df[\"height\"][0])))"
   ]
  },
  {
   "cell_type": "code",
   "execution_count": 7,
   "metadata": {},
   "outputs": [
    {
     "data": {
      "text/html": [
       "<div>\n",
       "<style scoped>\n",
       "    .dataframe tbody tr th:only-of-type {\n",
       "        vertical-align: middle;\n",
       "    }\n",
       "\n",
       "    .dataframe tbody tr th {\n",
       "        vertical-align: top;\n",
       "    }\n",
       "\n",
       "    .dataframe thead th {\n",
       "        text-align: right;\n",
       "    }\n",
       "</style>\n",
       "<table border=\"1\" class=\"dataframe\">\n",
       "  <thead>\n",
       "    <tr style=\"text-align: right;\">\n",
       "      <th></th>\n",
       "      <th>difficulty</th>\n",
       "      <th>height</th>\n",
       "      <th>nonce</th>\n",
       "      <th>time</th>\n",
       "      <th>date</th>\n",
       "    </tr>\n",
       "  </thead>\n",
       "  <tbody>\n",
       "    <tr>\n",
       "      <th>0</th>\n",
       "      <td>167.806517</td>\n",
       "      <td>47486.0</td>\n",
       "      <td>5.906630e+08</td>\n",
       "      <td>1.525645e+09</td>\n",
       "      <td>2018-05-06 22:20:53</td>\n",
       "    </tr>\n",
       "    <tr>\n",
       "      <th>1</th>\n",
       "      <td>243.260690</td>\n",
       "      <td>47485.0</td>\n",
       "      <td>1.877295e+09</td>\n",
       "      <td>1.525645e+09</td>\n",
       "      <td>2018-05-06 22:20:52</td>\n",
       "    </tr>\n",
       "    <tr>\n",
       "      <th>2</th>\n",
       "      <td>282.188620</td>\n",
       "      <td>47484.0</td>\n",
       "      <td>1.471564e+09</td>\n",
       "      <td>1.525645e+09</td>\n",
       "      <td>2018-05-06 22:17:21</td>\n",
       "    </tr>\n",
       "    <tr>\n",
       "      <th>3</th>\n",
       "      <td>276.696848</td>\n",
       "      <td>47483.0</td>\n",
       "      <td>3.500436e+09</td>\n",
       "      <td>1.525645e+09</td>\n",
       "      <td>2018-05-06 22:09:59</td>\n",
       "    </tr>\n",
       "    <tr>\n",
       "      <th>4</th>\n",
       "      <td>229.859155</td>\n",
       "      <td>47482.0</td>\n",
       "      <td>3.798218e+09</td>\n",
       "      <td>1.525644e+09</td>\n",
       "      <td>2018-05-06 22:07:11</td>\n",
       "    </tr>\n",
       "  </tbody>\n",
       "</table>\n",
       "</div>"
      ],
      "text/plain": [
       "   difficulty   height         nonce          time                date\n",
       "0  167.806517  47486.0  5.906630e+08  1.525645e+09 2018-05-06 22:20:53\n",
       "1  243.260690  47485.0  1.877295e+09  1.525645e+09 2018-05-06 22:20:52\n",
       "2  282.188620  47484.0  1.471564e+09  1.525645e+09 2018-05-06 22:17:21\n",
       "3  276.696848  47483.0  3.500436e+09  1.525645e+09 2018-05-06 22:09:59\n",
       "4  229.859155  47482.0  3.798218e+09  1.525644e+09 2018-05-06 22:07:11"
      ]
     },
     "execution_count": 7,
     "metadata": {},
     "output_type": "execute_result"
    }
   ],
   "source": [
    "df.head(5)"
   ]
  },
  {
   "cell_type": "code",
   "execution_count": 8,
   "metadata": {},
   "outputs": [
    {
     "data": {
      "text/html": [
       "<div>\n",
       "<style scoped>\n",
       "    .dataframe tbody tr th:only-of-type {\n",
       "        vertical-align: middle;\n",
       "    }\n",
       "\n",
       "    .dataframe tbody tr th {\n",
       "        vertical-align: top;\n",
       "    }\n",
       "\n",
       "    .dataframe thead th {\n",
       "        text-align: right;\n",
       "    }\n",
       "</style>\n",
       "<table border=\"1\" class=\"dataframe\">\n",
       "  <thead>\n",
       "    <tr style=\"text-align: right;\">\n",
       "      <th></th>\n",
       "      <th>height</th>\n",
       "      <th>time</th>\n",
       "    </tr>\n",
       "  </thead>\n",
       "  <tbody>\n",
       "    <tr>\n",
       "      <th>0</th>\n",
       "      <td>47486.0</td>\n",
       "      <td>1.525645e+09</td>\n",
       "    </tr>\n",
       "    <tr>\n",
       "      <th>1</th>\n",
       "      <td>47485.0</td>\n",
       "      <td>1.525645e+09</td>\n",
       "    </tr>\n",
       "    <tr>\n",
       "      <th>2</th>\n",
       "      <td>47484.0</td>\n",
       "      <td>1.525645e+09</td>\n",
       "    </tr>\n",
       "  </tbody>\n",
       "</table>\n",
       "</div>"
      ],
      "text/plain": [
       "    height          time\n",
       "0  47486.0  1.525645e+09\n",
       "1  47485.0  1.525645e+09\n",
       "2  47484.0  1.525645e+09"
      ]
     },
     "execution_count": 8,
     "metadata": {},
     "output_type": "execute_result"
    }
   ],
   "source": [
    "df_block_rate = df[['height','time']]\n",
    "df_block_rate.head(3)"
   ]
  },
  {
   "cell_type": "code",
   "execution_count": 9,
   "metadata": {},
   "outputs": [
    {
     "name": "stdout",
     "output_type": "stream",
     "text": [
      "MA Windows = 400\n"
     ]
    }
   ],
   "source": [
    "MA_window = min(400, int((df_block_rate.count()[0]-1)*0.5))\n",
    "print(\"MA Windows = {}\".format(MA_window))"
   ]
  },
  {
   "cell_type": "code",
   "execution_count": 10,
   "metadata": {},
   "outputs": [
    {
     "data": {
      "text/plain": [
       "height    2000\n",
       "time      2000\n",
       "dtype: int64"
      ]
     },
     "execution_count": 10,
     "metadata": {},
     "output_type": "execute_result"
    }
   ],
   "source": [
    "df_block_rate.count()"
   ]
  },
  {
   "cell_type": "code",
   "execution_count": 11,
   "metadata": {},
   "outputs": [
    {
     "data": {
      "text/html": [
       "<div>\n",
       "<style scoped>\n",
       "    .dataframe tbody tr th:only-of-type {\n",
       "        vertical-align: middle;\n",
       "    }\n",
       "\n",
       "    .dataframe tbody tr th {\n",
       "        vertical-align: top;\n",
       "    }\n",
       "\n",
       "    .dataframe thead th {\n",
       "        text-align: right;\n",
       "    }\n",
       "</style>\n",
       "<table border=\"1\" class=\"dataframe\">\n",
       "  <thead>\n",
       "    <tr style=\"text-align: right;\">\n",
       "      <th></th>\n",
       "      <th>height</th>\n",
       "      <th>time</th>\n",
       "    </tr>\n",
       "  </thead>\n",
       "  <tbody>\n",
       "    <tr>\n",
       "      <th>0</th>\n",
       "      <td>400.0</td>\n",
       "      <td>25963.0</td>\n",
       "    </tr>\n",
       "    <tr>\n",
       "      <th>1</th>\n",
       "      <td>400.0</td>\n",
       "      <td>26025.0</td>\n",
       "    </tr>\n",
       "    <tr>\n",
       "      <th>2</th>\n",
       "      <td>400.0</td>\n",
       "      <td>26013.0</td>\n",
       "    </tr>\n",
       "    <tr>\n",
       "      <th>3</th>\n",
       "      <td>400.0</td>\n",
       "      <td>25625.0</td>\n",
       "    </tr>\n",
       "    <tr>\n",
       "      <th>4</th>\n",
       "      <td>400.0</td>\n",
       "      <td>25613.0</td>\n",
       "    </tr>\n",
       "  </tbody>\n",
       "</table>\n",
       "</div>"
      ],
      "text/plain": [
       "   height     time\n",
       "0   400.0  25963.0\n",
       "1   400.0  26025.0\n",
       "2   400.0  26013.0\n",
       "3   400.0  25625.0\n",
       "4   400.0  25613.0"
      ]
     },
     "execution_count": 11,
     "metadata": {},
     "output_type": "execute_result"
    }
   ],
   "source": [
    "df_block_rate = df_block_rate.diff(-MA_window)\n",
    "df_block_rate.head(5)"
   ]
  },
  {
   "cell_type": "code",
   "execution_count": 12,
   "metadata": {},
   "outputs": [],
   "source": [
    "df_block_rate['block_per_day']=df_block_rate['height']/df_block_rate['time']*3600*24"
   ]
  },
  {
   "cell_type": "code",
   "execution_count": 13,
   "metadata": {},
   "outputs": [
    {
     "data": {
      "text/html": [
       "<div>\n",
       "<style scoped>\n",
       "    .dataframe tbody tr th:only-of-type {\n",
       "        vertical-align: middle;\n",
       "    }\n",
       "\n",
       "    .dataframe tbody tr th {\n",
       "        vertical-align: top;\n",
       "    }\n",
       "\n",
       "    .dataframe thead th {\n",
       "        text-align: right;\n",
       "    }\n",
       "</style>\n",
       "<table border=\"1\" class=\"dataframe\">\n",
       "  <thead>\n",
       "    <tr style=\"text-align: right;\">\n",
       "      <th></th>\n",
       "      <th>height</th>\n",
       "      <th>time</th>\n",
       "      <th>block_per_day</th>\n",
       "    </tr>\n",
       "  </thead>\n",
       "  <tbody>\n",
       "    <tr>\n",
       "      <th>0</th>\n",
       "      <td>400.0</td>\n",
       "      <td>25963.0</td>\n",
       "      <td>1331.125063</td>\n",
       "    </tr>\n",
       "    <tr>\n",
       "      <th>1</th>\n",
       "      <td>400.0</td>\n",
       "      <td>26025.0</td>\n",
       "      <td>1327.953890</td>\n",
       "    </tr>\n",
       "    <tr>\n",
       "      <th>2</th>\n",
       "      <td>400.0</td>\n",
       "      <td>26013.0</td>\n",
       "      <td>1328.566486</td>\n",
       "    </tr>\n",
       "    <tr>\n",
       "      <th>3</th>\n",
       "      <td>400.0</td>\n",
       "      <td>25625.0</td>\n",
       "      <td>1348.682927</td>\n",
       "    </tr>\n",
       "    <tr>\n",
       "      <th>4</th>\n",
       "      <td>400.0</td>\n",
       "      <td>25613.0</td>\n",
       "      <td>1349.314801</td>\n",
       "    </tr>\n",
       "  </tbody>\n",
       "</table>\n",
       "</div>"
      ],
      "text/plain": [
       "   height     time  block_per_day\n",
       "0   400.0  25963.0    1331.125063\n",
       "1   400.0  26025.0    1327.953890\n",
       "2   400.0  26013.0    1328.566486\n",
       "3   400.0  25625.0    1348.682927\n",
       "4   400.0  25613.0    1349.314801"
      ]
     },
     "execution_count": 13,
     "metadata": {},
     "output_type": "execute_result"
    }
   ],
   "source": [
    "df_block_rate.head(5)"
   ]
  },
  {
   "cell_type": "code",
   "execution_count": 14,
   "metadata": {},
   "outputs": [
    {
     "name": "stdout",
     "output_type": "stream",
     "text": [
      "1600\n"
     ]
    }
   ],
   "source": [
    "df_block_rate_count = df_block_rate.count()[0]\n",
    "print(df_block_rate_count)"
   ]
  },
  {
   "cell_type": "code",
   "execution_count": 15,
   "metadata": {},
   "outputs": [],
   "source": [
    "df_block_rate_full = pd.concat([df[\"height\"].head(df_block_rate_count), df_block_rate['block_per_day']],axis=1)"
   ]
  },
  {
   "cell_type": "code",
   "execution_count": 16,
   "metadata": {},
   "outputs": [
    {
     "data": {
      "text/html": [
       "<div>\n",
       "<style scoped>\n",
       "    .dataframe tbody tr th:only-of-type {\n",
       "        vertical-align: middle;\n",
       "    }\n",
       "\n",
       "    .dataframe tbody tr th {\n",
       "        vertical-align: top;\n",
       "    }\n",
       "\n",
       "    .dataframe thead th {\n",
       "        text-align: right;\n",
       "    }\n",
       "</style>\n",
       "<table border=\"1\" class=\"dataframe\">\n",
       "  <thead>\n",
       "    <tr style=\"text-align: right;\">\n",
       "      <th></th>\n",
       "      <th>height</th>\n",
       "      <th>block_per_day</th>\n",
       "    </tr>\n",
       "  </thead>\n",
       "  <tbody>\n",
       "    <tr>\n",
       "      <th>0</th>\n",
       "      <td>47486.0</td>\n",
       "      <td>1331.125063</td>\n",
       "    </tr>\n",
       "    <tr>\n",
       "      <th>1</th>\n",
       "      <td>47485.0</td>\n",
       "      <td>1327.953890</td>\n",
       "    </tr>\n",
       "    <tr>\n",
       "      <th>2</th>\n",
       "      <td>47484.0</td>\n",
       "      <td>1328.566486</td>\n",
       "    </tr>\n",
       "  </tbody>\n",
       "</table>\n",
       "</div>"
      ],
      "text/plain": [
       "    height  block_per_day\n",
       "0  47486.0    1331.125063\n",
       "1  47485.0    1327.953890\n",
       "2  47484.0    1328.566486"
      ]
     },
     "execution_count": 16,
     "metadata": {},
     "output_type": "execute_result"
    }
   ],
   "source": [
    "df_block_rate_full.head(3)"
   ]
  },
  {
   "cell_type": "code",
   "execution_count": 17,
   "metadata": {},
   "outputs": [],
   "source": [
    "block_speed_latest = int(df_block_rate['block_per_day'][0])"
   ]
  },
  {
   "cell_type": "code",
   "execution_count": 18,
   "metadata": {},
   "outputs": [
    {
     "name": "stdout",
     "output_type": "stream",
     "text": [
      "Coin [EXVO] Block Speed is 1331 Blocks/Day\n"
     ]
    }
   ],
   "source": [
    "print(\"Coin [{}] Block Speed is {} Blocks/Day\".format(coin, block_speed_latest))"
   ]
  },
  {
   "cell_type": "code",
   "execution_count": 19,
   "metadata": {},
   "outputs": [],
   "source": [
    "COIN_NETHASH_INFO_PATH = \"coin_nethash_info\"\n",
    "fname = os.path.join(COIN_NETHASH_INFO_PATH, coin+\"_nethash_info.csv\")"
   ]
  },
  {
   "cell_type": "code",
   "execution_count": 20,
   "metadata": {},
   "outputs": [],
   "source": [
    "df_nethash = pd.read_csv(fname)"
   ]
  },
  {
   "cell_type": "code",
   "execution_count": 21,
   "metadata": {},
   "outputs": [
    {
     "name": "stdout",
     "output_type": "stream",
     "text": [
      "Number of Nethash Sample: 1047\n"
     ]
    }
   ],
   "source": [
    "print(\"Number of Nethash Sample: {}\".format(df_nethash.count()[0]))"
   ]
  },
  {
   "cell_type": "code",
   "execution_count": 22,
   "metadata": {},
   "outputs": [
    {
     "name": "stdout",
     "output_type": "stream",
     "text": [
      "Latest Block: 47499\n"
     ]
    }
   ],
   "source": [
    "print(\"Latest Block: {}\".format(int(df_nethash[\"height\"][0])))"
   ]
  },
  {
   "cell_type": "code",
   "execution_count": 23,
   "metadata": {},
   "outputs": [
    {
     "data": {
      "text/html": [
       "<div>\n",
       "<style scoped>\n",
       "    .dataframe tbody tr th:only-of-type {\n",
       "        vertical-align: middle;\n",
       "    }\n",
       "\n",
       "    .dataframe tbody tr th {\n",
       "        vertical-align: top;\n",
       "    }\n",
       "\n",
       "    .dataframe thead th {\n",
       "        text-align: right;\n",
       "    }\n",
       "</style>\n",
       "<table border=\"1\" class=\"dataframe\">\n",
       "  <thead>\n",
       "    <tr style=\"text-align: right;\">\n",
       "      <th></th>\n",
       "      <th>height</th>\n",
       "      <th>nethash</th>\n",
       "    </tr>\n",
       "  </thead>\n",
       "  <tbody>\n",
       "    <tr>\n",
       "      <th>0</th>\n",
       "      <td>47499</td>\n",
       "      <td>12929832371</td>\n",
       "    </tr>\n",
       "    <tr>\n",
       "      <th>1</th>\n",
       "      <td>47497</td>\n",
       "      <td>12909181439</td>\n",
       "    </tr>\n",
       "    <tr>\n",
       "      <th>2</th>\n",
       "      <td>47495</td>\n",
       "      <td>12983681736</td>\n",
       "    </tr>\n",
       "    <tr>\n",
       "      <th>3</th>\n",
       "      <td>47490</td>\n",
       "      <td>13207777615</td>\n",
       "    </tr>\n",
       "    <tr>\n",
       "      <th>4</th>\n",
       "      <td>47489</td>\n",
       "      <td>13219237392</td>\n",
       "    </tr>\n",
       "  </tbody>\n",
       "</table>\n",
       "</div>"
      ],
      "text/plain": [
       "   height      nethash\n",
       "0   47499  12929832371\n",
       "1   47497  12909181439\n",
       "2   47495  12983681736\n",
       "3   47490  13207777615\n",
       "4   47489  13219237392"
      ]
     },
     "execution_count": 23,
     "metadata": {},
     "output_type": "execute_result"
    }
   ],
   "source": [
    "df_nethash.head(5)"
   ]
  },
  {
   "cell_type": "code",
   "execution_count": 24,
   "metadata": {},
   "outputs": [],
   "source": [
    "df_nethash_block = pd.merge(df_block_rate_full, df_nethash, how='inner', on='height')"
   ]
  },
  {
   "cell_type": "code",
   "execution_count": 25,
   "metadata": {},
   "outputs": [
    {
     "data": {
      "text/html": [
       "<div>\n",
       "<style scoped>\n",
       "    .dataframe tbody tr th:only-of-type {\n",
       "        vertical-align: middle;\n",
       "    }\n",
       "\n",
       "    .dataframe tbody tr th {\n",
       "        vertical-align: top;\n",
       "    }\n",
       "\n",
       "    .dataframe thead th {\n",
       "        text-align: right;\n",
       "    }\n",
       "</style>\n",
       "<table border=\"1\" class=\"dataframe\">\n",
       "  <thead>\n",
       "    <tr style=\"text-align: right;\">\n",
       "      <th></th>\n",
       "      <th>height</th>\n",
       "      <th>block_per_day</th>\n",
       "      <th>nethash</th>\n",
       "    </tr>\n",
       "  </thead>\n",
       "  <tbody>\n",
       "    <tr>\n",
       "      <th>0</th>\n",
       "      <td>47486</td>\n",
       "      <td>1331.125063</td>\n",
       "      <td>13646688713</td>\n",
       "    </tr>\n",
       "    <tr>\n",
       "      <th>1</th>\n",
       "      <td>47484</td>\n",
       "      <td>1328.566486</td>\n",
       "      <td>13785375286</td>\n",
       "    </tr>\n",
       "    <tr>\n",
       "      <th>2</th>\n",
       "      <td>47483</td>\n",
       "      <td>1348.682927</td>\n",
       "      <td>14471699187</td>\n",
       "    </tr>\n",
       "  </tbody>\n",
       "</table>\n",
       "</div>"
      ],
      "text/plain": [
       "  height  block_per_day      nethash\n",
       "0  47486    1331.125063  13646688713\n",
       "1  47484    1328.566486  13785375286\n",
       "2  47483    1348.682927  14471699187"
      ]
     },
     "execution_count": 25,
     "metadata": {},
     "output_type": "execute_result"
    }
   ],
   "source": [
    "df_nethash_block.head(3)"
   ]
  },
  {
   "cell_type": "code",
   "execution_count": 26,
   "metadata": {},
   "outputs": [],
   "source": [
    "df_nethash_block[\"profit\"]=df_nethash_block[\"block_per_day\"]*our_nethash/df_nethash_block[\"nethash\"]*coin_per_block\n",
    "df_nethash_block_profit = df_nethash_block"
   ]
  },
  {
   "cell_type": "code",
   "execution_count": 27,
   "metadata": {},
   "outputs": [
    {
     "data": {
      "text/html": [
       "<div>\n",
       "<style scoped>\n",
       "    .dataframe tbody tr th:only-of-type {\n",
       "        vertical-align: middle;\n",
       "    }\n",
       "\n",
       "    .dataframe tbody tr th {\n",
       "        vertical-align: top;\n",
       "    }\n",
       "\n",
       "    .dataframe thead th {\n",
       "        text-align: right;\n",
       "    }\n",
       "</style>\n",
       "<table border=\"1\" class=\"dataframe\">\n",
       "  <thead>\n",
       "    <tr style=\"text-align: right;\">\n",
       "      <th></th>\n",
       "      <th>height</th>\n",
       "      <th>block_per_day</th>\n",
       "      <th>nethash</th>\n",
       "      <th>profit</th>\n",
       "    </tr>\n",
       "  </thead>\n",
       "  <tbody>\n",
       "    <tr>\n",
       "      <th>0</th>\n",
       "      <td>47486</td>\n",
       "      <td>1331.125063</td>\n",
       "      <td>13646688713</td>\n",
       "      <td>593.055250</td>\n",
       "    </tr>\n",
       "    <tr>\n",
       "      <th>1</th>\n",
       "      <td>47484</td>\n",
       "      <td>1328.566486</td>\n",
       "      <td>13785375286</td>\n",
       "      <td>585.960416</td>\n",
       "    </tr>\n",
       "    <tr>\n",
       "      <th>2</th>\n",
       "      <td>47483</td>\n",
       "      <td>1348.682927</td>\n",
       "      <td>14471699187</td>\n",
       "      <td>566.622626</td>\n",
       "    </tr>\n",
       "    <tr>\n",
       "      <th>3</th>\n",
       "      <td>47482</td>\n",
       "      <td>1349.314801</td>\n",
       "      <td>14665384039</td>\n",
       "      <td>559.401238</td>\n",
       "    </tr>\n",
       "    <tr>\n",
       "      <th>4</th>\n",
       "      <td>47481</td>\n",
       "      <td>1352.271393</td>\n",
       "      <td>14777896489</td>\n",
       "      <td>556.358618</td>\n",
       "    </tr>\n",
       "  </tbody>\n",
       "</table>\n",
       "</div>"
      ],
      "text/plain": [
       "  height  block_per_day      nethash      profit\n",
       "0  47486    1331.125063  13646688713  593.055250\n",
       "1  47484    1328.566486  13785375286  585.960416\n",
       "2  47483    1348.682927  14471699187  566.622626\n",
       "3  47482    1349.314801  14665384039  559.401238\n",
       "4  47481    1352.271393  14777896489  556.358618"
      ]
     },
     "execution_count": 27,
     "metadata": {},
     "output_type": "execute_result"
    }
   ],
   "source": [
    "df_nethash_block_profit.head(5)"
   ]
  },
  {
   "cell_type": "code",
   "execution_count": 28,
   "metadata": {},
   "outputs": [
    {
     "data": {
      "image/png": "[encoded data removed]",
      "text/plain": [
       "<Figure size 1440x1080 with 3 Axes>"
      ]
     },
     "metadata": {},
     "output_type": "display_data"
    }
   ],
   "source": [
    "#df_block_rate_count\n",
    "fig = plt.figure(figsize=(20,15))\n",
    "plt.subplot(3, 1, 1)\n",
    "plt.plot(df_nethash_block_profit['height'], df_nethash_block_profit['block_per_day'])\n",
    "plt.plot(df_nethash_block_profit['height'], \n",
    "         [np.mean(df_nethash_block_profit['block_per_day'])]*df_nethash_block_profit['height'].count(), \n",
    "         linestyle = '--', linewidth = 1)\n",
    "\n",
    "plt.title('Block Speed')\n",
    "plt.xlabel('Block ID')\n",
    "plt.ylabel('Block/Day')\n",
    "\n",
    "plt.subplot(3, 1, 2)\n",
    "plt.plot(df_nethash_block_profit['height'], df_nethash_block_profit['nethash']/(10**9), color='red')\n",
    "plt.title('Globle Nethash (GH)')\n",
    "plt.xlabel('Block ID')\n",
    "plt.ylabel('Nethash')\n",
    "\n",
    "plt.subplot(3, 1, 3)\n",
    "plt.plot(df_nethash_block_profit['height'], df_nethash_block_profit['profit'], color='blue')\n",
    "plt.title('Our Profit (Coin/Day)')\n",
    "plt.xlabel('Block ID')\n",
    "plt.ylabel('Nethash')\n",
    "\n",
    "plt.show()\n"
   ]
  },
  {
   "cell_type": "code",
   "execution_count": null,
   "metadata": {},
   "outputs": [],
   "source": []
  }
 ],
 "metadata": {
  "kernelspec": {
   "display_name": "Python 2",
   "language": "python",
   "name": "python2"
  },
  "language_info": {
   "codemirror_mode": {
    "name": "ipython",
    "version": 2
   },
   "file_extension": ".py",
   "mimetype": "text/x-python",
   "name": "python",
   "nbconvert_exporter": "python",
   "pygments_lexer": "ipython2",
   "version": "2.7.14"
  }
 },
 "nbformat": 4,
 "nbformat_minor": 2
}
