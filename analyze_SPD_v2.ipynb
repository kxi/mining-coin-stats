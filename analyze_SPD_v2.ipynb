{
 "cells": [
  {
   "cell_type": "code",
   "execution_count": 1,
   "metadata": {},
   "outputs": [],
   "source": [
    "import os\n",
    "import pandas as pd\n",
    "import numpy as np\n",
    "import matplotlib.pyplot as plt"
   ]
  },
  {
   "cell_type": "code",
   "execution_count": 2,
   "metadata": {},
   "outputs": [],
   "source": [
    "COIN_BLOCK_INFO_PATH = \"coin_block_info\"\n",
    "\n",
    "coin = \"SPD\"\n",
    "coin_per_block = 15\n",
    "our_nethash = 540\n",
    "\n",
    "fname = os.path.join(COIN_BLOCK_INFO_PATH, coin+\"_block_info.csv\")"
   ]
  },
  {
   "cell_type": "code",
   "execution_count": 3,
   "metadata": {},
   "outputs": [],
   "source": [
    "df = pd.read_csv(fname)"
   ]
  },
  {
   "cell_type": "code",
   "execution_count": 4,
   "metadata": {},
   "outputs": [],
   "source": [
    "df['date'] = pd.to_datetime(df['time'],unit='s')"
   ]
  },
  {
   "cell_type": "code",
   "execution_count": 5,
   "metadata": {},
   "outputs": [
    {
     "name": "stdout",
     "output_type": "stream",
     "text": [
      "Number of Blocks: 2000\n"
     ]
    }
   ],
   "source": [
    "print(\"Number of Blocks: {}\".format(df.count()[0]))"
   ]
  },
  {
   "cell_type": "code",
   "execution_count": 6,
   "metadata": {},
   "outputs": [
    {
     "name": "stdout",
     "output_type": "stream",
     "text": [
      "Latest Block: 151770\n"
     ]
    }
   ],
   "source": [
    "print(\"Latest Block: {}\".format(int(df[\"height\"][0])))"
   ]
  },
  {
   "cell_type": "code",
   "execution_count": 7,
   "metadata": {},
   "outputs": [],
   "source": [
    "COIN_NETHASH_INFO_PATH = \"coin_nethash_info\"\n",
    "fname = os.path.join(COIN_NETHASH_INFO_PATH, coin+\"_nethash_info.csv\")"
   ]
  },
  {
   "cell_type": "code",
   "execution_count": 8,
   "metadata": {},
   "outputs": [],
   "source": [
    "df_nethash = pd.read_csv(fname)"
   ]
  },
  {
   "cell_type": "code",
   "execution_count": 9,
   "metadata": {},
   "outputs": [],
   "source": [
    "df = pd.merge(df, df_nethash, how='inner', on='height')"
   ]
  },
  {
   "cell_type": "code",
   "execution_count": 10,
   "metadata": {},
   "outputs": [
    {
     "data": {
      "text/html": [
       "<div>\n",
       "<style scoped>\n",
       "    .dataframe tbody tr th:only-of-type {\n",
       "        vertical-align: middle;\n",
       "    }\n",
       "\n",
       "    .dataframe tbody tr th {\n",
       "        vertical-align: top;\n",
       "    }\n",
       "\n",
       "    .dataframe thead th {\n",
       "        text-align: right;\n",
       "    }\n",
       "</style>\n",
       "<table border=\"1\" class=\"dataframe\">\n",
       "  <thead>\n",
       "    <tr style=\"text-align: right;\">\n",
       "      <th></th>\n",
       "      <th>difficulty</th>\n",
       "      <th>flags</th>\n",
       "      <th>height</th>\n",
       "      <th>nonce</th>\n",
       "      <th>time</th>\n",
       "      <th>date</th>\n",
       "      <th>nethash</th>\n",
       "    </tr>\n",
       "  </thead>\n",
       "  <tbody>\n",
       "    <tr>\n",
       "      <th>0</th>\n",
       "      <td>2736.491655</td>\n",
       "      <td>proof-of-work</td>\n",
       "      <td>151770</td>\n",
       "      <td>9.774225e+08</td>\n",
       "      <td>1.525696e+09</td>\n",
       "      <td>2018-05-07 12:33:33</td>\n",
       "      <td>117531</td>\n",
       "    </tr>\n",
       "    <tr>\n",
       "      <th>1</th>\n",
       "      <td>2341.219577</td>\n",
       "      <td>proof-of-work</td>\n",
       "      <td>151769</td>\n",
       "      <td>1.752632e+09</td>\n",
       "      <td>1.525696e+09</td>\n",
       "      <td>2018-05-07 12:29:42</td>\n",
       "      <td>103664</td>\n",
       "    </tr>\n",
       "    <tr>\n",
       "      <th>2</th>\n",
       "      <td>5194.036167</td>\n",
       "      <td>proof-of-work</td>\n",
       "      <td>151768</td>\n",
       "      <td>2.600152e+09</td>\n",
       "      <td>1.525696e+09</td>\n",
       "      <td>2018-05-07 12:28:51</td>\n",
       "      <td>225335</td>\n",
       "    </tr>\n",
       "    <tr>\n",
       "      <th>3</th>\n",
       "      <td>102660.430251</td>\n",
       "      <td>proof-of-stake</td>\n",
       "      <td>151767</td>\n",
       "      <td>0.000000e+00</td>\n",
       "      <td>1.525696e+09</td>\n",
       "      <td>2018-05-07 12:28:00</td>\n",
       "      <td>369967</td>\n",
       "    </tr>\n",
       "    <tr>\n",
       "      <th>4</th>\n",
       "      <td>80606.992230</td>\n",
       "      <td>proof-of-stake stake-modifier</td>\n",
       "      <td>151766</td>\n",
       "      <td>0.000000e+00</td>\n",
       "      <td>1.525696e+09</td>\n",
       "      <td>2018-05-07 12:28:32</td>\n",
       "      <td>369967</td>\n",
       "    </tr>\n",
       "  </tbody>\n",
       "</table>\n",
       "</div>"
      ],
      "text/plain": [
       "      difficulty                          flags  height         nonce  \\\n",
       "0    2736.491655                  proof-of-work  151770  9.774225e+08   \n",
       "1    2341.219577                  proof-of-work  151769  1.752632e+09   \n",
       "2    5194.036167                  proof-of-work  151768  2.600152e+09   \n",
       "3  102660.430251                 proof-of-stake  151767  0.000000e+00   \n",
       "4   80606.992230  proof-of-stake stake-modifier  151766  0.000000e+00   \n",
       "\n",
       "           time                date  nethash  \n",
       "0  1.525696e+09 2018-05-07 12:33:33   117531  \n",
       "1  1.525696e+09 2018-05-07 12:29:42   103664  \n",
       "2  1.525696e+09 2018-05-07 12:28:51   225335  \n",
       "3  1.525696e+09 2018-05-07 12:28:00   369967  \n",
       "4  1.525696e+09 2018-05-07 12:28:32   369967  "
      ]
     },
     "execution_count": 10,
     "metadata": {},
     "output_type": "execute_result"
    }
   ],
   "source": [
    "df.head(5)"
   ]
  },
  {
   "cell_type": "code",
   "execution_count": 11,
   "metadata": {},
   "outputs": [
    {
     "data": {
      "text/html": [
       "<div>\n",
       "<style scoped>\n",
       "    .dataframe tbody tr th:only-of-type {\n",
       "        vertical-align: middle;\n",
       "    }\n",
       "\n",
       "    .dataframe tbody tr th {\n",
       "        vertical-align: top;\n",
       "    }\n",
       "\n",
       "    .dataframe thead th {\n",
       "        text-align: right;\n",
       "    }\n",
       "</style>\n",
       "<table border=\"1\" class=\"dataframe\">\n",
       "  <thead>\n",
       "    <tr style=\"text-align: right;\">\n",
       "      <th></th>\n",
       "      <th>flags</th>\n",
       "      <th>counts</th>\n",
       "      <th>percentage</th>\n",
       "    </tr>\n",
       "  </thead>\n",
       "  <tbody>\n",
       "    <tr>\n",
       "      <th>0</th>\n",
       "      <td>proof-of-stake</td>\n",
       "      <td>547</td>\n",
       "      <td>0.504613</td>\n",
       "    </tr>\n",
       "    <tr>\n",
       "      <th>1</th>\n",
       "      <td>proof-of-stake stake-modifier</td>\n",
       "      <td>195</td>\n",
       "      <td>0.179889</td>\n",
       "    </tr>\n",
       "    <tr>\n",
       "      <th>2</th>\n",
       "      <td>proof-of-work</td>\n",
       "      <td>256</td>\n",
       "      <td>0.236162</td>\n",
       "    </tr>\n",
       "    <tr>\n",
       "      <th>3</th>\n",
       "      <td>proof-of-work stake-modifier</td>\n",
       "      <td>86</td>\n",
       "      <td>0.079336</td>\n",
       "    </tr>\n",
       "  </tbody>\n",
       "</table>\n",
       "</div>"
      ],
      "text/plain": [
       "                           flags  counts  percentage\n",
       "0                 proof-of-stake     547    0.504613\n",
       "1  proof-of-stake stake-modifier     195    0.179889\n",
       "2                  proof-of-work     256    0.236162\n",
       "3   proof-of-work stake-modifier      86    0.079336"
      ]
     },
     "execution_count": 11,
     "metadata": {},
     "output_type": "execute_result"
    }
   ],
   "source": [
    "df_type = df.groupby(\"flags\").size().reset_index(name='counts')\n",
    "df_type[\"percentage\"]=df_type[\"counts\"]/sum(df_type[\"counts\"])\n",
    "df_type"
   ]
  },
  {
   "cell_type": "code",
   "execution_count": 12,
   "metadata": {},
   "outputs": [
    {
     "data": {
      "text/html": [
       "<div>\n",
       "<style scoped>\n",
       "    .dataframe tbody tr th:only-of-type {\n",
       "        vertical-align: middle;\n",
       "    }\n",
       "\n",
       "    .dataframe tbody tr th {\n",
       "        vertical-align: top;\n",
       "    }\n",
       "\n",
       "    .dataframe thead th {\n",
       "        text-align: right;\n",
       "    }\n",
       "</style>\n",
       "<table border=\"1\" class=\"dataframe\">\n",
       "  <thead>\n",
       "    <tr style=\"text-align: right;\">\n",
       "      <th></th>\n",
       "      <th>index</th>\n",
       "      <th>flags</th>\n",
       "      <th>height</th>\n",
       "      <th>time</th>\n",
       "      <th>nethash</th>\n",
       "    </tr>\n",
       "  </thead>\n",
       "  <tbody>\n",
       "    <tr>\n",
       "      <th>0</th>\n",
       "      <td>0</td>\n",
       "      <td>proof-of-work</td>\n",
       "      <td>151770</td>\n",
       "      <td>1.525696e+09</td>\n",
       "      <td>117531</td>\n",
       "    </tr>\n",
       "    <tr>\n",
       "      <th>1</th>\n",
       "      <td>1</td>\n",
       "      <td>proof-of-work</td>\n",
       "      <td>151769</td>\n",
       "      <td>1.525696e+09</td>\n",
       "      <td>103664</td>\n",
       "    </tr>\n",
       "    <tr>\n",
       "      <th>2</th>\n",
       "      <td>2</td>\n",
       "      <td>proof-of-work</td>\n",
       "      <td>151768</td>\n",
       "      <td>1.525696e+09</td>\n",
       "      <td>225335</td>\n",
       "    </tr>\n",
       "    <tr>\n",
       "      <th>3</th>\n",
       "      <td>8</td>\n",
       "      <td>proof-of-work stake-modifier</td>\n",
       "      <td>151762</td>\n",
       "      <td>1.525696e+09</td>\n",
       "      <td>369967</td>\n",
       "    </tr>\n",
       "    <tr>\n",
       "      <th>4</th>\n",
       "      <td>9</td>\n",
       "      <td>proof-of-work</td>\n",
       "      <td>151761</td>\n",
       "      <td>1.525695e+09</td>\n",
       "      <td>287751</td>\n",
       "    </tr>\n",
       "    <tr>\n",
       "      <th>5</th>\n",
       "      <td>10</td>\n",
       "      <td>proof-of-work</td>\n",
       "      <td>151760</td>\n",
       "      <td>1.525695e+09</td>\n",
       "      <td>219819</td>\n",
       "    </tr>\n",
       "    <tr>\n",
       "      <th>6</th>\n",
       "      <td>12</td>\n",
       "      <td>proof-of-work stake-modifier</td>\n",
       "      <td>151758</td>\n",
       "      <td>1.525695e+09</td>\n",
       "      <td>230116</td>\n",
       "    </tr>\n",
       "    <tr>\n",
       "      <th>7</th>\n",
       "      <td>15</td>\n",
       "      <td>proof-of-work stake-modifier</td>\n",
       "      <td>151755</td>\n",
       "      <td>1.525695e+09</td>\n",
       "      <td>169604</td>\n",
       "    </tr>\n",
       "    <tr>\n",
       "      <th>8</th>\n",
       "      <td>18</td>\n",
       "      <td>proof-of-work</td>\n",
       "      <td>151751</td>\n",
       "      <td>1.525695e+09</td>\n",
       "      <td>219704</td>\n",
       "    </tr>\n",
       "    <tr>\n",
       "      <th>9</th>\n",
       "      <td>24</td>\n",
       "      <td>proof-of-work stake-modifier</td>\n",
       "      <td>151743</td>\n",
       "      <td>1.525695e+09</td>\n",
       "      <td>234639</td>\n",
       "    </tr>\n",
       "  </tbody>\n",
       "</table>\n",
       "</div>"
      ],
      "text/plain": [
       "   index                         flags  height          time  nethash\n",
       "0      0                 proof-of-work  151770  1.525696e+09   117531\n",
       "1      1                 proof-of-work  151769  1.525696e+09   103664\n",
       "2      2                 proof-of-work  151768  1.525696e+09   225335\n",
       "3      8  proof-of-work stake-modifier  151762  1.525696e+09   369967\n",
       "4      9                 proof-of-work  151761  1.525695e+09   287751\n",
       "5     10                 proof-of-work  151760  1.525695e+09   219819\n",
       "6     12  proof-of-work stake-modifier  151758  1.525695e+09   230116\n",
       "7     15  proof-of-work stake-modifier  151755  1.525695e+09   169604\n",
       "8     18                 proof-of-work  151751  1.525695e+09   219704\n",
       "9     24  proof-of-work stake-modifier  151743  1.525695e+09   234639"
      ]
     },
     "execution_count": 12,
     "metadata": {},
     "output_type": "execute_result"
    }
   ],
   "source": [
    "df_pow_block_rate = df[['flags','height','time', 'nethash']][df['flags'].str.contains(\"proof-of-work\")].reset_index()\n",
    "df_pow_block_rate.head(10)"
   ]
  },
  {
   "cell_type": "code",
   "execution_count": 13,
   "metadata": {},
   "outputs": [
    {
     "name": "stdout",
     "output_type": "stream",
     "text": [
      "Block Height MA Windows = 170\n",
      "Nethash MA Windows = 50\n"
     ]
    }
   ],
   "source": [
    "height_MA_window = min(400, int((df_pow_block_rate.count()[0]-1)*0.5))\n",
    "print(\"Block Height MA Windows = {}\".format(height_MA_window))\n",
    "\n",
    "nethash_MA_window = 50\n",
    "print(\"Nethash MA Windows = {}\".format(nethash_MA_window))"
   ]
  },
  {
   "cell_type": "code",
   "execution_count": 14,
   "metadata": {},
   "outputs": [
    {
     "name": "stdout",
     "output_type": "stream",
     "text": [
      "Num of POW = 342\n"
     ]
    }
   ],
   "source": [
    "df_pow_count = df_pow_block_rate.count()[0]\n",
    "print(\"Num of POW = {}\".format(df_pow_count))"
   ]
  },
  {
   "cell_type": "code",
   "execution_count": 15,
   "metadata": {},
   "outputs": [
    {
     "data": {
      "text/html": [
       "<div>\n",
       "<style scoped>\n",
       "    .dataframe tbody tr th:only-of-type {\n",
       "        vertical-align: middle;\n",
       "    }\n",
       "\n",
       "    .dataframe tbody tr th {\n",
       "        vertical-align: top;\n",
       "    }\n",
       "\n",
       "    .dataframe thead th {\n",
       "        text-align: right;\n",
       "    }\n",
       "</style>\n",
       "<table border=\"1\" class=\"dataframe\">\n",
       "  <thead>\n",
       "    <tr style=\"text-align: right;\">\n",
       "      <th></th>\n",
       "      <th>index</th>\n",
       "      <th>flags</th>\n",
       "      <th>height</th>\n",
       "      <th>time</th>\n",
       "      <th>nethash</th>\n",
       "      <th>pow_index</th>\n",
       "    </tr>\n",
       "  </thead>\n",
       "  <tbody>\n",
       "    <tr>\n",
       "      <th>337</th>\n",
       "      <td>1073</td>\n",
       "      <td>proof-of-work stake-modifier</td>\n",
       "      <td>149723</td>\n",
       "      <td>1.525622e+09</td>\n",
       "      <td>191023</td>\n",
       "      <td>4</td>\n",
       "    </tr>\n",
       "    <tr>\n",
       "      <th>338</th>\n",
       "      <td>1076</td>\n",
       "      <td>proof-of-work stake-modifier</td>\n",
       "      <td>149720</td>\n",
       "      <td>1.525621e+09</td>\n",
       "      <td>220705</td>\n",
       "      <td>3</td>\n",
       "    </tr>\n",
       "    <tr>\n",
       "      <th>339</th>\n",
       "      <td>1078</td>\n",
       "      <td>proof-of-work</td>\n",
       "      <td>149718</td>\n",
       "      <td>1.525621e+09</td>\n",
       "      <td>429148</td>\n",
       "      <td>2</td>\n",
       "    </tr>\n",
       "    <tr>\n",
       "      <th>340</th>\n",
       "      <td>1082</td>\n",
       "      <td>proof-of-work stake-modifier</td>\n",
       "      <td>149712</td>\n",
       "      <td>1.525621e+09</td>\n",
       "      <td>361259</td>\n",
       "      <td>1</td>\n",
       "    </tr>\n",
       "    <tr>\n",
       "      <th>341</th>\n",
       "      <td>1083</td>\n",
       "      <td>proof-of-work</td>\n",
       "      <td>149711</td>\n",
       "      <td>1.525621e+09</td>\n",
       "      <td>268904</td>\n",
       "      <td>0</td>\n",
       "    </tr>\n",
       "  </tbody>\n",
       "</table>\n",
       "</div>"
      ],
      "text/plain": [
       "     index                         flags  height          time  nethash  \\\n",
       "337   1073  proof-of-work stake-modifier  149723  1.525622e+09   191023   \n",
       "338   1076  proof-of-work stake-modifier  149720  1.525621e+09   220705   \n",
       "339   1078                 proof-of-work  149718  1.525621e+09   429148   \n",
       "340   1082  proof-of-work stake-modifier  149712  1.525621e+09   361259   \n",
       "341   1083                 proof-of-work  149711  1.525621e+09   268904   \n",
       "\n",
       "     pow_index  \n",
       "337          4  \n",
       "338          3  \n",
       "339          2  \n",
       "340          1  \n",
       "341          0  "
      ]
     },
     "execution_count": 15,
     "metadata": {},
     "output_type": "execute_result"
    }
   ],
   "source": [
    "df_pow_block_rate['pow_index'] = pd.DataFrame(range(df_pow_count)[::-1])\n",
    "df_pow_block_rate.tail(5)"
   ]
  },
  {
   "cell_type": "code",
   "execution_count": 16,
   "metadata": {},
   "outputs": [
    {
     "name": "stdout",
     "output_type": "stream",
     "text": [
      "Number of Rows in POW Height MA = 172\n"
     ]
    },
    {
     "data": {
      "text/html": [
       "<div>\n",
       "<style scoped>\n",
       "    .dataframe tbody tr th:only-of-type {\n",
       "        vertical-align: middle;\n",
       "    }\n",
       "\n",
       "    .dataframe tbody tr th {\n",
       "        vertical-align: top;\n",
       "    }\n",
       "\n",
       "    .dataframe thead th {\n",
       "        text-align: right;\n",
       "    }\n",
       "</style>\n",
       "<table border=\"1\" class=\"dataframe\">\n",
       "  <thead>\n",
       "    <tr style=\"text-align: right;\">\n",
       "      <th></th>\n",
       "      <th>time</th>\n",
       "      <th>pow_index</th>\n",
       "      <th>block_per_day</th>\n",
       "    </tr>\n",
       "  </thead>\n",
       "  <tbody>\n",
       "    <tr>\n",
       "      <th>0</th>\n",
       "      <td>45707.0</td>\n",
       "      <td>170.0</td>\n",
       "      <td>321.351215</td>\n",
       "    </tr>\n",
       "    <tr>\n",
       "      <th>1</th>\n",
       "      <td>45568.0</td>\n",
       "      <td>170.0</td>\n",
       "      <td>322.331461</td>\n",
       "    </tr>\n",
       "    <tr>\n",
       "      <th>2</th>\n",
       "      <td>45581.0</td>\n",
       "      <td>170.0</td>\n",
       "      <td>322.239530</td>\n",
       "    </tr>\n",
       "    <tr>\n",
       "      <th>3</th>\n",
       "      <td>45393.0</td>\n",
       "      <td>170.0</td>\n",
       "      <td>323.574119</td>\n",
       "    </tr>\n",
       "    <tr>\n",
       "      <th>4</th>\n",
       "      <td>45414.0</td>\n",
       "      <td>170.0</td>\n",
       "      <td>323.424495</td>\n",
       "    </tr>\n",
       "    <tr>\n",
       "      <th>5</th>\n",
       "      <td>45556.0</td>\n",
       "      <td>170.0</td>\n",
       "      <td>322.416367</td>\n",
       "    </tr>\n",
       "    <tr>\n",
       "      <th>6</th>\n",
       "      <td>45917.0</td>\n",
       "      <td>170.0</td>\n",
       "      <td>319.881525</td>\n",
       "    </tr>\n",
       "    <tr>\n",
       "      <th>7</th>\n",
       "      <td>45949.0</td>\n",
       "      <td>170.0</td>\n",
       "      <td>319.658752</td>\n",
       "    </tr>\n",
       "  </tbody>\n",
       "</table>\n",
       "</div>"
      ],
      "text/plain": [
       "      time  pow_index  block_per_day\n",
       "0  45707.0      170.0     321.351215\n",
       "1  45568.0      170.0     322.331461\n",
       "2  45581.0      170.0     322.239530\n",
       "3  45393.0      170.0     323.574119\n",
       "4  45414.0      170.0     323.424495\n",
       "5  45556.0      170.0     322.416367\n",
       "6  45917.0      170.0     319.881525\n",
       "7  45949.0      170.0     319.658752"
      ]
     },
     "execution_count": 16,
     "metadata": {},
     "output_type": "execute_result"
    }
   ],
   "source": [
    "df_pow_block_rate_window = df_pow_block_rate[[\"time\", \"pow_index\"]].diff(-height_MA_window)\n",
    "df_pow_block_rate_window_row_count = int(df_pow_block_rate_window.count()[0])\n",
    "df_pow_block_rate_window['block_per_day']=df_pow_block_rate_window['pow_index']/df_pow_block_rate_window['time']*3600*24\n",
    "print(\"Number of Rows in POW Height MA = {}\".format(df_pow_block_rate_window_row_count))\n",
    "df_pow_block_rate_window.head(8)"
   ]
  },
  {
   "cell_type": "code",
   "execution_count": 17,
   "metadata": {},
   "outputs": [
    {
     "name": "stdout",
     "output_type": "stream",
     "text": [
      "Number of Rows in Nethash MA = 338\n"
     ]
    },
    {
     "data": {
      "text/html": [
       "<div>\n",
       "<style scoped>\n",
       "    .dataframe tbody tr th:only-of-type {\n",
       "        vertical-align: middle;\n",
       "    }\n",
       "\n",
       "    .dataframe tbody tr th {\n",
       "        vertical-align: top;\n",
       "    }\n",
       "\n",
       "    .dataframe thead th {\n",
       "        text-align: right;\n",
       "    }\n",
       "</style>\n",
       "<table border=\"1\" class=\"dataframe\">\n",
       "  <thead>\n",
       "    <tr style=\"text-align: right;\">\n",
       "      <th></th>\n",
       "      <th>nethash</th>\n",
       "    </tr>\n",
       "  </thead>\n",
       "  <tbody>\n",
       "    <tr>\n",
       "      <th>0</th>\n",
       "      <td>NaN</td>\n",
       "    </tr>\n",
       "    <tr>\n",
       "      <th>1</th>\n",
       "      <td>NaN</td>\n",
       "    </tr>\n",
       "    <tr>\n",
       "      <th>2</th>\n",
       "      <td>NaN</td>\n",
       "    </tr>\n",
       "    <tr>\n",
       "      <th>3</th>\n",
       "      <td>NaN</td>\n",
       "    </tr>\n",
       "    <tr>\n",
       "      <th>4</th>\n",
       "      <td>220849.6</td>\n",
       "    </tr>\n",
       "    <tr>\n",
       "      <th>5</th>\n",
       "      <td>241307.2</td>\n",
       "    </tr>\n",
       "    <tr>\n",
       "      <th>6</th>\n",
       "      <td>266597.6</td>\n",
       "    </tr>\n",
       "    <tr>\n",
       "      <th>7</th>\n",
       "      <td>255451.4</td>\n",
       "    </tr>\n",
       "  </tbody>\n",
       "</table>\n",
       "</div>"
      ],
      "text/plain": [
       "    nethash\n",
       "0       NaN\n",
       "1       NaN\n",
       "2       NaN\n",
       "3       NaN\n",
       "4  220849.6\n",
       "5  241307.2\n",
       "6  266597.6\n",
       "7  255451.4"
      ]
     },
     "execution_count": 17,
     "metadata": {},
     "output_type": "execute_result"
    }
   ],
   "source": [
    "df_nethash_MA = df_pow_block_rate[[\"nethash\"]].rolling(window=5).mean()\n",
    "df_nethash_MA_row_count = int(df_nethash_MA.count()[0])\n",
    "print(\"Number of Rows in Nethash MA = {}\".format(df_nethash_MA_row_count))\n",
    "df_nethash_MA.head(8)"
   ]
  },
  {
   "cell_type": "code",
   "execution_count": 18,
   "metadata": {},
   "outputs": [
    {
     "name": "stdout",
     "output_type": "stream",
     "text": [
      "172\n"
     ]
    },
    {
     "data": {
      "text/html": [
       "<div>\n",
       "<style scoped>\n",
       "    .dataframe tbody tr th:only-of-type {\n",
       "        vertical-align: middle;\n",
       "    }\n",
       "\n",
       "    .dataframe tbody tr th {\n",
       "        vertical-align: top;\n",
       "    }\n",
       "\n",
       "    .dataframe thead th {\n",
       "        text-align: right;\n",
       "    }\n",
       "</style>\n",
       "<table border=\"1\" class=\"dataframe\">\n",
       "  <thead>\n",
       "    <tr style=\"text-align: right;\">\n",
       "      <th></th>\n",
       "      <th>time</th>\n",
       "      <th>pow_index</th>\n",
       "      <th>block_per_day</th>\n",
       "      <th>nethash</th>\n",
       "      <th>height</th>\n",
       "    </tr>\n",
       "  </thead>\n",
       "  <tbody>\n",
       "    <tr>\n",
       "      <th>4</th>\n",
       "      <td>45414.0</td>\n",
       "      <td>170.0</td>\n",
       "      <td>323.424495</td>\n",
       "      <td>220849.6</td>\n",
       "      <td>151766</td>\n",
       "    </tr>\n",
       "    <tr>\n",
       "      <th>5</th>\n",
       "      <td>45556.0</td>\n",
       "      <td>170.0</td>\n",
       "      <td>322.416367</td>\n",
       "      <td>241307.2</td>\n",
       "      <td>151765</td>\n",
       "    </tr>\n",
       "    <tr>\n",
       "      <th>6</th>\n",
       "      <td>45917.0</td>\n",
       "      <td>170.0</td>\n",
       "      <td>319.881525</td>\n",
       "      <td>266597.6</td>\n",
       "      <td>151764</td>\n",
       "    </tr>\n",
       "    <tr>\n",
       "      <th>7</th>\n",
       "      <td>45949.0</td>\n",
       "      <td>170.0</td>\n",
       "      <td>319.658752</td>\n",
       "      <td>255451.4</td>\n",
       "      <td>151763</td>\n",
       "    </tr>\n",
       "    <tr>\n",
       "      <th>8</th>\n",
       "      <td>45948.0</td>\n",
       "      <td>170.0</td>\n",
       "      <td>319.665709</td>\n",
       "      <td>225398.8</td>\n",
       "      <td>151762</td>\n",
       "    </tr>\n",
       "  </tbody>\n",
       "</table>\n",
       "</div>"
      ],
      "text/plain": [
       "      time  pow_index  block_per_day   nethash  height\n",
       "4  45414.0      170.0     323.424495  220849.6  151766\n",
       "5  45556.0      170.0     322.416367  241307.2  151765\n",
       "6  45917.0      170.0     319.881525  266597.6  151764\n",
       "7  45949.0      170.0     319.658752  255451.4  151763\n",
       "8  45948.0      170.0     319.665709  225398.8  151762"
      ]
     },
     "execution_count": 18,
     "metadata": {},
     "output_type": "execute_result"
    }
   ],
   "source": [
    "df_pow_block_rate_full = pd.concat([df_pow_block_rate_window, df_nethash_MA, df[\"height\"]],axis=1)\n",
    "df_pow_block_rate_full_row_count = df_pow_block_rate_full.count()[0]\n",
    "print(df_pow_block_rate_full_row_count)\n",
    "df_pow_block_rate_full = df_pow_block_rate_full.dropna()\n",
    "df_pow_block_rate_full.head(5)"
   ]
  },
  {
   "cell_type": "code",
   "execution_count": 19,
   "metadata": {},
   "outputs": [
    {
     "data": {
      "text/html": [
       "<div>\n",
       "<style scoped>\n",
       "    .dataframe tbody tr th:only-of-type {\n",
       "        vertical-align: middle;\n",
       "    }\n",
       "\n",
       "    .dataframe tbody tr th {\n",
       "        vertical-align: top;\n",
       "    }\n",
       "\n",
       "    .dataframe thead th {\n",
       "        text-align: right;\n",
       "    }\n",
       "</style>\n",
       "<table border=\"1\" class=\"dataframe\">\n",
       "  <thead>\n",
       "    <tr style=\"text-align: right;\">\n",
       "      <th></th>\n",
       "      <th>time</th>\n",
       "      <th>pow_index</th>\n",
       "      <th>block_per_day</th>\n",
       "      <th>nethash</th>\n",
       "      <th>height</th>\n",
       "      <th>profit</th>\n",
       "    </tr>\n",
       "  </thead>\n",
       "  <tbody>\n",
       "    <tr>\n",
       "      <th>4</th>\n",
       "      <td>45414.0</td>\n",
       "      <td>170.0</td>\n",
       "      <td>323.424495</td>\n",
       "      <td>220849.6</td>\n",
       "      <td>151766</td>\n",
       "      <td>11.862093</td>\n",
       "    </tr>\n",
       "    <tr>\n",
       "      <th>5</th>\n",
       "      <td>45556.0</td>\n",
       "      <td>170.0</td>\n",
       "      <td>322.416367</td>\n",
       "      <td>241307.2</td>\n",
       "      <td>151765</td>\n",
       "      <td>10.822605</td>\n",
       "    </tr>\n",
       "    <tr>\n",
       "      <th>6</th>\n",
       "      <td>45917.0</td>\n",
       "      <td>170.0</td>\n",
       "      <td>319.881525</td>\n",
       "      <td>266597.6</td>\n",
       "      <td>151764</td>\n",
       "      <td>9.718919</td>\n",
       "    </tr>\n",
       "    <tr>\n",
       "      <th>7</th>\n",
       "      <td>45949.0</td>\n",
       "      <td>170.0</td>\n",
       "      <td>319.658752</td>\n",
       "      <td>255451.4</td>\n",
       "      <td>151763</td>\n",
       "      <td>10.135924</td>\n",
       "    </tr>\n",
       "    <tr>\n",
       "      <th>8</th>\n",
       "      <td>45948.0</td>\n",
       "      <td>170.0</td>\n",
       "      <td>319.665709</td>\n",
       "      <td>225398.8</td>\n",
       "      <td>151762</td>\n",
       "      <td>11.487604</td>\n",
       "    </tr>\n",
       "  </tbody>\n",
       "</table>\n",
       "</div>"
      ],
      "text/plain": [
       "      time  pow_index  block_per_day   nethash  height     profit\n",
       "4  45414.0      170.0     323.424495  220849.6  151766  11.862093\n",
       "5  45556.0      170.0     322.416367  241307.2  151765  10.822605\n",
       "6  45917.0      170.0     319.881525  266597.6  151764   9.718919\n",
       "7  45949.0      170.0     319.658752  255451.4  151763  10.135924\n",
       "8  45948.0      170.0     319.665709  225398.8  151762  11.487604"
      ]
     },
     "execution_count": 19,
     "metadata": {},
     "output_type": "execute_result"
    }
   ],
   "source": [
    "df_pow_nethash_block_profit = df_pow_block_rate_full\n",
    "df_pow_nethash_block_profit[\"profit\"] = df_pow_block_rate_full[\"block_per_day\"]*our_nethash/df_pow_block_rate_full[\"nethash\"]*coin_per_block\n",
    "df_pow_nethash_block_profit.head(5)"
   ]
  },
  {
   "cell_type": "code",
   "execution_count": 20,
   "metadata": {},
   "outputs": [
    {
     "data": {
      "image/png": "[encoded data removed]",
      "text/plain": [
       "<Figure size 1440x1080 with 3 Axes>"
      ]
     },
     "metadata": {},
     "output_type": "display_data"
    }
   ],
   "source": [
    "fig = plt.figure(figsize=(20,15))\n",
    "plt.subplot(3, 1, 1)\n",
    "plt.plot(df_pow_nethash_block_profit['height'], df_pow_nethash_block_profit['block_per_day'])\n",
    "plt.plot(df_pow_nethash_block_profit['height'], \n",
    "         [np.mean(df_pow_nethash_block_profit['block_per_day'])]*df_pow_nethash_block_profit['height'].count(), \n",
    "         linestyle = '--', linewidth = 1)\n",
    "\n",
    "plt.title('Block Speed')\n",
    "plt.xlabel('Block ID')\n",
    "plt.ylabel('Block/Day')\n",
    "\n",
    "plt.subplot(3, 1, 2)\n",
    "plt.plot(df_pow_nethash_block_profit['height'], df_pow_nethash_block_profit['nethash'], color='red')\n",
    "plt.plot(df_pow_nethash_block_profit['height'], \n",
    "         [np.mean(df_pow_nethash_block_profit['nethash'])]*df_pow_nethash_block_profit['height'].count(), \n",
    "         linestyle = '--', linewidth = 1)\n",
    "plt.title('Globle Nethash (GH)')\n",
    "plt.xlabel('Block ID')\n",
    "plt.ylabel('Nethash')\n",
    "\n",
    "plt.subplot(3, 1, 3)\n",
    "plt.plot(df_pow_nethash_block_profit['height'], df_pow_nethash_block_profit['profit'], color='blue')\n",
    "plt.plot(df_pow_nethash_block_profit['height'], \n",
    "         [np.mean(df_pow_nethash_block_profit['profit'])]*df_pow_nethash_block_profit['height'].count(), \n",
    "         linestyle = '--', linewidth = 1)\n",
    "plt.title('Our Profit (Coin/Day)')\n",
    "plt.xlabel('Block ID')\n",
    "plt.ylabel('Coin/Day')\n",
    "\n",
    "plt.show()\n"
   ]
  },
  {
   "cell_type": "code",
   "execution_count": null,
   "metadata": {},
   "outputs": [],
   "source": []
  }
 ],
 "metadata": {
  "kernelspec": {
   "display_name": "Python 2",
   "language": "python",
   "name": "python2"
  },
  "language_info": {
   "codemirror_mode": {
    "name": "ipython",
    "version": 2
   },
   "file_extension": ".py",
   "mimetype": "text/x-python",
   "name": "python",
   "nbconvert_exporter": "python",
   "pygments_lexer": "ipython2",
   "version": "2.7.15"
  }
 },
 "nbformat": 4,
 "nbformat_minor": 2
}
