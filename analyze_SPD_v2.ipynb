{
 "cells": [
  {
   "cell_type": "code",
   "execution_count": 1,
   "metadata": {},
   "outputs": [],
   "source": [
    "import os\n",
    "import pandas as pd\n",
    "import numpy as np\n",
    "import matplotlib.pyplot as plt"
   ]
  },
  {
   "cell_type": "code",
   "execution_count": 2,
   "metadata": {},
   "outputs": [],
   "source": [
    "COIN_BLOCK_INFO_PATH = \"coin_block_info\"\n",
    "\n",
    "coin = \"SPD\"\n",
    "coin_per_block = 15\n",
    "our_nethash = 540\n",
    "\n",
    "fname = os.path.join(COIN_BLOCK_INFO_PATH, coin+\"_block_info.csv\")"
   ]
  },
  {
   "cell_type": "code",
   "execution_count": 3,
   "metadata": {},
   "outputs": [],
   "source": [
    "df = pd.read_csv(fname)"
   ]
  },
  {
   "cell_type": "code",
   "execution_count": 4,
   "metadata": {},
   "outputs": [],
   "source": [
    "df['date'] = pd.to_datetime(df['time'],unit='s')"
   ]
  },
  {
   "cell_type": "code",
   "execution_count": 5,
   "metadata": {},
   "outputs": [
    {
     "name": "stdout",
     "output_type": "stream",
     "text": [
      "Number of Blocks: 2000\n"
     ]
    }
   ],
   "source": [
    "print(\"Number of Blocks: {}\".format(df.count()[0]))"
   ]
  },
  {
   "cell_type": "code",
   "execution_count": 6,
   "metadata": {},
   "outputs": [
    {
     "name": "stdout",
     "output_type": "stream",
     "text": [
      "Latest Block: 150951\n"
     ]
    }
   ],
   "source": [
    "print(\"Latest Block: {}\".format(int(df[\"height\"][0])))"
   ]
  },
  {
   "cell_type": "code",
   "execution_count": 7,
   "metadata": {},
   "outputs": [],
   "source": [
    "COIN_NETHASH_INFO_PATH = \"coin_nethash_info\"\n",
    "fname = os.path.join(COIN_NETHASH_INFO_PATH, coin+\"_nethash_info.csv\")"
   ]
  },
  {
   "cell_type": "code",
   "execution_count": 8,
   "metadata": {},
   "outputs": [],
   "source": [
    "df_nethash = pd.read_csv(fname)"
   ]
  },
  {
   "cell_type": "code",
   "execution_count": 9,
   "metadata": {},
   "outputs": [],
   "source": [
    "df = pd.merge(df, df_nethash, how='inner', on='height')"
   ]
  },
  {
   "cell_type": "code",
   "execution_count": 10,
   "metadata": {},
   "outputs": [
    {
     "data": {
      "text/html": [
       "<div>\n",
       "<style scoped>\n",
       "    .dataframe tbody tr th:only-of-type {\n",
       "        vertical-align: middle;\n",
       "    }\n",
       "\n",
       "    .dataframe tbody tr th {\n",
       "        vertical-align: top;\n",
       "    }\n",
       "\n",
       "    .dataframe thead th {\n",
       "        text-align: right;\n",
       "    }\n",
       "</style>\n",
       "<table border=\"1\" class=\"dataframe\">\n",
       "  <thead>\n",
       "    <tr style=\"text-align: right;\">\n",
       "      <th></th>\n",
       "      <th>difficulty</th>\n",
       "      <th>flags</th>\n",
       "      <th>height</th>\n",
       "      <th>nonce</th>\n",
       "      <th>time</th>\n",
       "      <th>date</th>\n",
       "      <th>nethash</th>\n",
       "    </tr>\n",
       "  </thead>\n",
       "  <tbody>\n",
       "    <tr>\n",
       "      <th>0</th>\n",
       "      <td>6950.556478</td>\n",
       "      <td>proof-of-work stake-modifier</td>\n",
       "      <td>150588</td>\n",
       "      <td>3.918015e+09</td>\n",
       "      <td>1.525654e+09</td>\n",
       "      <td>2018-05-07 00:41:26</td>\n",
       "      <td>335420</td>\n",
       "    </tr>\n",
       "    <tr>\n",
       "      <th>1</th>\n",
       "      <td>78822.892380</td>\n",
       "      <td>proof-of-stake</td>\n",
       "      <td>150587</td>\n",
       "      <td>0.000000e+00</td>\n",
       "      <td>1.525654e+09</td>\n",
       "      <td>2018-05-07 00:40:32</td>\n",
       "      <td>237649</td>\n",
       "    </tr>\n",
       "    <tr>\n",
       "      <th>2</th>\n",
       "      <td>57219.581135</td>\n",
       "      <td>proof-of-stake</td>\n",
       "      <td>150586</td>\n",
       "      <td>0.000000e+00</td>\n",
       "      <td>1.525654e+09</td>\n",
       "      <td>2018-05-07 00:39:44</td>\n",
       "      <td>237649</td>\n",
       "    </tr>\n",
       "    <tr>\n",
       "      <th>3</th>\n",
       "      <td>41536.767505</td>\n",
       "      <td>proof-of-stake</td>\n",
       "      <td>150585</td>\n",
       "      <td>0.000000e+00</td>\n",
       "      <td>1.525654e+09</td>\n",
       "      <td>2018-05-07 00:39:28</td>\n",
       "      <td>237649</td>\n",
       "    </tr>\n",
       "    <tr>\n",
       "      <th>4</th>\n",
       "      <td>30152.568889</td>\n",
       "      <td>proof-of-stake</td>\n",
       "      <td>150584</td>\n",
       "      <td>0.000000e+00</td>\n",
       "      <td>1.525654e+09</td>\n",
       "      <td>2018-05-07 00:39:12</td>\n",
       "      <td>237649</td>\n",
       "    </tr>\n",
       "  </tbody>\n",
       "</table>\n",
       "</div>"
      ],
      "text/plain": [
       "     difficulty                         flags  height         nonce  \\\n",
       "0   6950.556478  proof-of-work stake-modifier  150588  3.918015e+09   \n",
       "1  78822.892380                proof-of-stake  150587  0.000000e+00   \n",
       "2  57219.581135                proof-of-stake  150586  0.000000e+00   \n",
       "3  41536.767505                proof-of-stake  150585  0.000000e+00   \n",
       "4  30152.568889                proof-of-stake  150584  0.000000e+00   \n",
       "\n",
       "           time                date  nethash  \n",
       "0  1.525654e+09 2018-05-07 00:41:26   335420  \n",
       "1  1.525654e+09 2018-05-07 00:40:32   237649  \n",
       "2  1.525654e+09 2018-05-07 00:39:44   237649  \n",
       "3  1.525654e+09 2018-05-07 00:39:28   237649  \n",
       "4  1.525654e+09 2018-05-07 00:39:12   237649  "
      ]
     },
     "execution_count": 10,
     "metadata": {},
     "output_type": "execute_result"
    }
   ],
   "source": [
    "df.head(5)"
   ]
  },
  {
   "cell_type": "code",
   "execution_count": 11,
   "metadata": {},
   "outputs": [
    {
     "data": {
      "text/html": [
       "<div>\n",
       "<style scoped>\n",
       "    .dataframe tbody tr th:only-of-type {\n",
       "        vertical-align: middle;\n",
       "    }\n",
       "\n",
       "    .dataframe tbody tr th {\n",
       "        vertical-align: top;\n",
       "    }\n",
       "\n",
       "    .dataframe thead th {\n",
       "        text-align: right;\n",
       "    }\n",
       "</style>\n",
       "<table border=\"1\" class=\"dataframe\">\n",
       "  <thead>\n",
       "    <tr style=\"text-align: right;\">\n",
       "      <th></th>\n",
       "      <th>flags</th>\n",
       "      <th>counts</th>\n",
       "      <th>percentage</th>\n",
       "    </tr>\n",
       "  </thead>\n",
       "  <tbody>\n",
       "    <tr>\n",
       "      <th>0</th>\n",
       "      <td>proof-of-stake</td>\n",
       "      <td>542</td>\n",
       "      <td>0.469671</td>\n",
       "    </tr>\n",
       "    <tr>\n",
       "      <th>1</th>\n",
       "      <td>proof-of-stake stake-modifier</td>\n",
       "      <td>207</td>\n",
       "      <td>0.179376</td>\n",
       "    </tr>\n",
       "    <tr>\n",
       "      <th>2</th>\n",
       "      <td>proof-of-work</td>\n",
       "      <td>305</td>\n",
       "      <td>0.264298</td>\n",
       "    </tr>\n",
       "    <tr>\n",
       "      <th>3</th>\n",
       "      <td>proof-of-work stake-modifier</td>\n",
       "      <td>100</td>\n",
       "      <td>0.086655</td>\n",
       "    </tr>\n",
       "  </tbody>\n",
       "</table>\n",
       "</div>"
      ],
      "text/plain": [
       "                           flags  counts  percentage\n",
       "0                 proof-of-stake     542    0.469671\n",
       "1  proof-of-stake stake-modifier     207    0.179376\n",
       "2                  proof-of-work     305    0.264298\n",
       "3   proof-of-work stake-modifier     100    0.086655"
      ]
     },
     "execution_count": 11,
     "metadata": {},
     "output_type": "execute_result"
    }
   ],
   "source": [
    "df_type = df.groupby(\"flags\").size().reset_index(name='counts')\n",
    "df_type[\"percentage\"]=df_type[\"counts\"]/sum(df_type[\"counts\"])\n",
    "df_type"
   ]
  },
  {
   "cell_type": "code",
   "execution_count": 12,
   "metadata": {},
   "outputs": [
    {
     "data": {
      "text/html": [
       "<div>\n",
       "<style scoped>\n",
       "    .dataframe tbody tr th:only-of-type {\n",
       "        vertical-align: middle;\n",
       "    }\n",
       "\n",
       "    .dataframe tbody tr th {\n",
       "        vertical-align: top;\n",
       "    }\n",
       "\n",
       "    .dataframe thead th {\n",
       "        text-align: right;\n",
       "    }\n",
       "</style>\n",
       "<table border=\"1\" class=\"dataframe\">\n",
       "  <thead>\n",
       "    <tr style=\"text-align: right;\">\n",
       "      <th></th>\n",
       "      <th>index</th>\n",
       "      <th>flags</th>\n",
       "      <th>height</th>\n",
       "      <th>time</th>\n",
       "      <th>nethash</th>\n",
       "    </tr>\n",
       "  </thead>\n",
       "  <tbody>\n",
       "    <tr>\n",
       "      <th>0</th>\n",
       "      <td>0</td>\n",
       "      <td>proof-of-work stake-modifier</td>\n",
       "      <td>150588</td>\n",
       "      <td>1.525654e+09</td>\n",
       "      <td>335420</td>\n",
       "    </tr>\n",
       "    <tr>\n",
       "      <th>1</th>\n",
       "      <td>5</td>\n",
       "      <td>proof-of-work</td>\n",
       "      <td>150580</td>\n",
       "      <td>1.525653e+09</td>\n",
       "      <td>198246</td>\n",
       "    </tr>\n",
       "    <tr>\n",
       "      <th>2</th>\n",
       "      <td>6</td>\n",
       "      <td>proof-of-work</td>\n",
       "      <td>150579</td>\n",
       "      <td>1.525653e+09</td>\n",
       "      <td>137192</td>\n",
       "    </tr>\n",
       "    <tr>\n",
       "      <th>3</th>\n",
       "      <td>8</td>\n",
       "      <td>proof-of-work stake-modifier</td>\n",
       "      <td>150575</td>\n",
       "      <td>1.525653e+09</td>\n",
       "      <td>148013</td>\n",
       "    </tr>\n",
       "    <tr>\n",
       "      <th>4</th>\n",
       "      <td>10</td>\n",
       "      <td>proof-of-work stake-modifier</td>\n",
       "      <td>150573</td>\n",
       "      <td>1.525653e+09</td>\n",
       "      <td>340645</td>\n",
       "    </tr>\n",
       "    <tr>\n",
       "      <th>5</th>\n",
       "      <td>16</td>\n",
       "      <td>proof-of-work</td>\n",
       "      <td>150564</td>\n",
       "      <td>1.525653e+09</td>\n",
       "      <td>314002</td>\n",
       "    </tr>\n",
       "    <tr>\n",
       "      <th>6</th>\n",
       "      <td>17</td>\n",
       "      <td>proof-of-work</td>\n",
       "      <td>150563</td>\n",
       "      <td>1.525653e+09</td>\n",
       "      <td>208938</td>\n",
       "    </tr>\n",
       "    <tr>\n",
       "      <th>7</th>\n",
       "      <td>27</td>\n",
       "      <td>proof-of-work</td>\n",
       "      <td>150544</td>\n",
       "      <td>1.525652e+09</td>\n",
       "      <td>226085</td>\n",
       "    </tr>\n",
       "    <tr>\n",
       "      <th>8</th>\n",
       "      <td>29</td>\n",
       "      <td>proof-of-work</td>\n",
       "      <td>150541</td>\n",
       "      <td>1.525652e+09</td>\n",
       "      <td>147936</td>\n",
       "    </tr>\n",
       "    <tr>\n",
       "      <th>9</th>\n",
       "      <td>32</td>\n",
       "      <td>proof-of-work stake-modifier</td>\n",
       "      <td>150535</td>\n",
       "      <td>1.525652e+09</td>\n",
       "      <td>191896</td>\n",
       "    </tr>\n",
       "  </tbody>\n",
       "</table>\n",
       "</div>"
      ],
      "text/plain": [
       "   index                         flags  height          time  nethash\n",
       "0      0  proof-of-work stake-modifier  150588  1.525654e+09   335420\n",
       "1      5                 proof-of-work  150580  1.525653e+09   198246\n",
       "2      6                 proof-of-work  150579  1.525653e+09   137192\n",
       "3      8  proof-of-work stake-modifier  150575  1.525653e+09   148013\n",
       "4     10  proof-of-work stake-modifier  150573  1.525653e+09   340645\n",
       "5     16                 proof-of-work  150564  1.525653e+09   314002\n",
       "6     17                 proof-of-work  150563  1.525653e+09   208938\n",
       "7     27                 proof-of-work  150544  1.525652e+09   226085\n",
       "8     29                 proof-of-work  150541  1.525652e+09   147936\n",
       "9     32  proof-of-work stake-modifier  150535  1.525652e+09   191896"
      ]
     },
     "execution_count": 12,
     "metadata": {},
     "output_type": "execute_result"
    }
   ],
   "source": [
    "df_pow_block_rate = df[['flags','height','time', 'nethash']][df['flags'].str.contains(\"proof-of-work\")].reset_index()\n",
    "df_pow_block_rate.head(10)"
   ]
  },
  {
   "cell_type": "code",
   "execution_count": 13,
   "metadata": {},
   "outputs": [
    {
     "name": "stdout",
     "output_type": "stream",
     "text": [
      "Block Height MA Windows = 202\n",
      "Nethash MA Windows = 50\n"
     ]
    }
   ],
   "source": [
    "height_MA_window = min(400, int((df_pow_block_rate.count()[0]-1)*0.5))\n",
    "print(\"Block Height MA Windows = {}\".format(height_MA_window))\n",
    "\n",
    "nethash_MA_window = 50\n",
    "print(\"Nethash MA Windows = {}\".format(nethash_MA_window))"
   ]
  },
  {
   "cell_type": "code",
   "execution_count": 14,
   "metadata": {},
   "outputs": [
    {
     "name": "stdout",
     "output_type": "stream",
     "text": [
      "Num of POW = 405\n"
     ]
    }
   ],
   "source": [
    "df_pow_count = df_pow_block_rate.count()[0]\n",
    "print(\"Num of POW = {}\".format(df_pow_count))"
   ]
  },
  {
   "cell_type": "code",
   "execution_count": 15,
   "metadata": {},
   "outputs": [
    {
     "data": {
      "text/html": [
       "<div>\n",
       "<style scoped>\n",
       "    .dataframe tbody tr th:only-of-type {\n",
       "        vertical-align: middle;\n",
       "    }\n",
       "\n",
       "    .dataframe tbody tr th {\n",
       "        vertical-align: top;\n",
       "    }\n",
       "\n",
       "    .dataframe thead th {\n",
       "        text-align: right;\n",
       "    }\n",
       "</style>\n",
       "<table border=\"1\" class=\"dataframe\">\n",
       "  <thead>\n",
       "    <tr style=\"text-align: right;\">\n",
       "      <th></th>\n",
       "      <th>index</th>\n",
       "      <th>flags</th>\n",
       "      <th>height</th>\n",
       "      <th>time</th>\n",
       "      <th>nethash</th>\n",
       "      <th>pow_index</th>\n",
       "    </tr>\n",
       "  </thead>\n",
       "  <tbody>\n",
       "    <tr>\n",
       "      <th>400</th>\n",
       "      <td>1142</td>\n",
       "      <td>proof-of-work</td>\n",
       "      <td>148965</td>\n",
       "      <td>1.525590e+09</td>\n",
       "      <td>245632</td>\n",
       "      <td>4</td>\n",
       "    </tr>\n",
       "    <tr>\n",
       "      <th>401</th>\n",
       "      <td>1146</td>\n",
       "      <td>proof-of-work</td>\n",
       "      <td>148959</td>\n",
       "      <td>1.525590e+09</td>\n",
       "      <td>147450</td>\n",
       "      <td>3</td>\n",
       "    </tr>\n",
       "    <tr>\n",
       "      <th>402</th>\n",
       "      <td>1147</td>\n",
       "      <td>proof-of-work</td>\n",
       "      <td>148958</td>\n",
       "      <td>1.525590e+09</td>\n",
       "      <td>127225</td>\n",
       "      <td>2</td>\n",
       "    </tr>\n",
       "    <tr>\n",
       "      <th>403</th>\n",
       "      <td>1150</td>\n",
       "      <td>proof-of-work</td>\n",
       "      <td>148955</td>\n",
       "      <td>1.525590e+09</td>\n",
       "      <td>128623</td>\n",
       "      <td>1</td>\n",
       "    </tr>\n",
       "    <tr>\n",
       "      <th>404</th>\n",
       "      <td>1153</td>\n",
       "      <td>proof-of-work</td>\n",
       "      <td>148952</td>\n",
       "      <td>1.525590e+09</td>\n",
       "      <td>198652</td>\n",
       "      <td>0</td>\n",
       "    </tr>\n",
       "  </tbody>\n",
       "</table>\n",
       "</div>"
      ],
      "text/plain": [
       "     index          flags  height          time  nethash  pow_index\n",
       "400   1142  proof-of-work  148965  1.525590e+09   245632          4\n",
       "401   1146  proof-of-work  148959  1.525590e+09   147450          3\n",
       "402   1147  proof-of-work  148958  1.525590e+09   127225          2\n",
       "403   1150  proof-of-work  148955  1.525590e+09   128623          1\n",
       "404   1153  proof-of-work  148952  1.525590e+09   198652          0"
      ]
     },
     "execution_count": 15,
     "metadata": {},
     "output_type": "execute_result"
    }
   ],
   "source": [
    "df_pow_block_rate['pow_index'] = pd.DataFrame(range(df_pow_count)[::-1])\n",
    "df_pow_block_rate.tail(5)"
   ]
  },
  {
   "cell_type": "code",
   "execution_count": 16,
   "metadata": {},
   "outputs": [
    {
     "name": "stdout",
     "output_type": "stream",
     "text": [
      "Number of Rows in POW Height MA = 203\n"
     ]
    },
    {
     "data": {
      "text/html": [
       "<div>\n",
       "<style scoped>\n",
       "    .dataframe tbody tr th:only-of-type {\n",
       "        vertical-align: middle;\n",
       "    }\n",
       "\n",
       "    .dataframe tbody tr th {\n",
       "        vertical-align: top;\n",
       "    }\n",
       "\n",
       "    .dataframe thead th {\n",
       "        text-align: right;\n",
       "    }\n",
       "</style>\n",
       "<table border=\"1\" class=\"dataframe\">\n",
       "  <thead>\n",
       "    <tr style=\"text-align: right;\">\n",
       "      <th></th>\n",
       "      <th>time</th>\n",
       "      <th>pow_index</th>\n",
       "      <th>block_per_day</th>\n",
       "    </tr>\n",
       "  </thead>\n",
       "  <tbody>\n",
       "    <tr>\n",
       "      <th>0</th>\n",
       "      <td>34821.0</td>\n",
       "      <td>202.0</td>\n",
       "      <td>501.214784</td>\n",
       "    </tr>\n",
       "    <tr>\n",
       "      <th>1</th>\n",
       "      <td>34810.0</td>\n",
       "      <td>202.0</td>\n",
       "      <td>501.373169</td>\n",
       "    </tr>\n",
       "    <tr>\n",
       "      <th>2</th>\n",
       "      <td>34848.0</td>\n",
       "      <td>202.0</td>\n",
       "      <td>500.826446</td>\n",
       "    </tr>\n",
       "    <tr>\n",
       "      <th>3</th>\n",
       "      <td>34745.0</td>\n",
       "      <td>202.0</td>\n",
       "      <td>502.311124</td>\n",
       "    </tr>\n",
       "    <tr>\n",
       "      <th>4</th>\n",
       "      <td>34693.0</td>\n",
       "      <td>202.0</td>\n",
       "      <td>503.064019</td>\n",
       "    </tr>\n",
       "    <tr>\n",
       "      <th>5</th>\n",
       "      <td>34194.0</td>\n",
       "      <td>202.0</td>\n",
       "      <td>510.405334</td>\n",
       "    </tr>\n",
       "    <tr>\n",
       "      <th>6</th>\n",
       "      <td>34277.0</td>\n",
       "      <td>202.0</td>\n",
       "      <td>509.169414</td>\n",
       "    </tr>\n",
       "    <tr>\n",
       "      <th>7</th>\n",
       "      <td>33671.0</td>\n",
       "      <td>202.0</td>\n",
       "      <td>518.333284</td>\n",
       "    </tr>\n",
       "  </tbody>\n",
       "</table>\n",
       "</div>"
      ],
      "text/plain": [
       "      time  pow_index  block_per_day\n",
       "0  34821.0      202.0     501.214784\n",
       "1  34810.0      202.0     501.373169\n",
       "2  34848.0      202.0     500.826446\n",
       "3  34745.0      202.0     502.311124\n",
       "4  34693.0      202.0     503.064019\n",
       "5  34194.0      202.0     510.405334\n",
       "6  34277.0      202.0     509.169414\n",
       "7  33671.0      202.0     518.333284"
      ]
     },
     "execution_count": 16,
     "metadata": {},
     "output_type": "execute_result"
    }
   ],
   "source": [
    "df_pow_block_rate_window = df_pow_block_rate[[\"time\", \"pow_index\"]].diff(-height_MA_window)\n",
    "df_pow_block_rate_window_row_count = int(df_pow_block_rate_window.count()[0])\n",
    "df_pow_block_rate_window['block_per_day']=df_pow_block_rate_window['pow_index']/df_pow_block_rate_window['time']*3600*24\n",
    "print(\"Number of Rows in POW Height MA = {}\".format(df_pow_block_rate_window_row_count))\n",
    "df_pow_block_rate_window.head(8)"
   ]
  },
  {
   "cell_type": "code",
   "execution_count": 17,
   "metadata": {},
   "outputs": [
    {
     "name": "stdout",
     "output_type": "stream",
     "text": [
      "Number of Rows in Nethash MA = 401\n"
     ]
    },
    {
     "data": {
      "text/html": [
       "<div>\n",
       "<style scoped>\n",
       "    .dataframe tbody tr th:only-of-type {\n",
       "        vertical-align: middle;\n",
       "    }\n",
       "\n",
       "    .dataframe tbody tr th {\n",
       "        vertical-align: top;\n",
       "    }\n",
       "\n",
       "    .dataframe thead th {\n",
       "        text-align: right;\n",
       "    }\n",
       "</style>\n",
       "<table border=\"1\" class=\"dataframe\">\n",
       "  <thead>\n",
       "    <tr style=\"text-align: right;\">\n",
       "      <th></th>\n",
       "      <th>nethash</th>\n",
       "    </tr>\n",
       "  </thead>\n",
       "  <tbody>\n",
       "    <tr>\n",
       "      <th>0</th>\n",
       "      <td>NaN</td>\n",
       "    </tr>\n",
       "    <tr>\n",
       "      <th>1</th>\n",
       "      <td>NaN</td>\n",
       "    </tr>\n",
       "    <tr>\n",
       "      <th>2</th>\n",
       "      <td>NaN</td>\n",
       "    </tr>\n",
       "    <tr>\n",
       "      <th>3</th>\n",
       "      <td>NaN</td>\n",
       "    </tr>\n",
       "    <tr>\n",
       "      <th>4</th>\n",
       "      <td>231903.2</td>\n",
       "    </tr>\n",
       "    <tr>\n",
       "      <th>5</th>\n",
       "      <td>227619.6</td>\n",
       "    </tr>\n",
       "    <tr>\n",
       "      <th>6</th>\n",
       "      <td>229758.0</td>\n",
       "    </tr>\n",
       "    <tr>\n",
       "      <th>7</th>\n",
       "      <td>247536.6</td>\n",
       "    </tr>\n",
       "  </tbody>\n",
       "</table>\n",
       "</div>"
      ],
      "text/plain": [
       "    nethash\n",
       "0       NaN\n",
       "1       NaN\n",
       "2       NaN\n",
       "3       NaN\n",
       "4  231903.2\n",
       "5  227619.6\n",
       "6  229758.0\n",
       "7  247536.6"
      ]
     },
     "execution_count": 17,
     "metadata": {},
     "output_type": "execute_result"
    }
   ],
   "source": [
    "df_nethash_MA = df_pow_block_rate[[\"nethash\"]].rolling(window=5).mean()\n",
    "df_nethash_MA_row_count = int(df_nethash_MA.count()[0])\n",
    "print(\"Number of Rows in Nethash MA = {}\".format(df_nethash_MA_row_count))\n",
    "df_nethash_MA.head(8)"
   ]
  },
  {
   "cell_type": "code",
   "execution_count": 18,
   "metadata": {},
   "outputs": [
    {
     "name": "stdout",
     "output_type": "stream",
     "text": [
      "203\n"
     ]
    },
    {
     "data": {
      "text/html": [
       "<div>\n",
       "<style scoped>\n",
       "    .dataframe tbody tr th:only-of-type {\n",
       "        vertical-align: middle;\n",
       "    }\n",
       "\n",
       "    .dataframe tbody tr th {\n",
       "        vertical-align: top;\n",
       "    }\n",
       "\n",
       "    .dataframe thead th {\n",
       "        text-align: right;\n",
       "    }\n",
       "</style>\n",
       "<table border=\"1\" class=\"dataframe\">\n",
       "  <thead>\n",
       "    <tr style=\"text-align: right;\">\n",
       "      <th></th>\n",
       "      <th>time</th>\n",
       "      <th>pow_index</th>\n",
       "      <th>block_per_day</th>\n",
       "      <th>nethash</th>\n",
       "      <th>height</th>\n",
       "    </tr>\n",
       "  </thead>\n",
       "  <tbody>\n",
       "    <tr>\n",
       "      <th>4</th>\n",
       "      <td>34693.0</td>\n",
       "      <td>202.0</td>\n",
       "      <td>503.064019</td>\n",
       "      <td>231903.2</td>\n",
       "      <td>150584</td>\n",
       "    </tr>\n",
       "    <tr>\n",
       "      <th>5</th>\n",
       "      <td>34194.0</td>\n",
       "      <td>202.0</td>\n",
       "      <td>510.405334</td>\n",
       "      <td>227619.6</td>\n",
       "      <td>150580</td>\n",
       "    </tr>\n",
       "    <tr>\n",
       "      <th>6</th>\n",
       "      <td>34277.0</td>\n",
       "      <td>202.0</td>\n",
       "      <td>509.169414</td>\n",
       "      <td>229758.0</td>\n",
       "      <td>150579</td>\n",
       "    </tr>\n",
       "    <tr>\n",
       "      <th>7</th>\n",
       "      <td>33671.0</td>\n",
       "      <td>202.0</td>\n",
       "      <td>518.333284</td>\n",
       "      <td>247536.6</td>\n",
       "      <td>150577</td>\n",
       "    </tr>\n",
       "    <tr>\n",
       "      <th>8</th>\n",
       "      <td>33666.0</td>\n",
       "      <td>202.0</td>\n",
       "      <td>518.410266</td>\n",
       "      <td>247521.2</td>\n",
       "      <td>150575</td>\n",
       "    </tr>\n",
       "  </tbody>\n",
       "</table>\n",
       "</div>"
      ],
      "text/plain": [
       "      time  pow_index  block_per_day   nethash  height\n",
       "4  34693.0      202.0     503.064019  231903.2  150584\n",
       "5  34194.0      202.0     510.405334  227619.6  150580\n",
       "6  34277.0      202.0     509.169414  229758.0  150579\n",
       "7  33671.0      202.0     518.333284  247536.6  150577\n",
       "8  33666.0      202.0     518.410266  247521.2  150575"
      ]
     },
     "execution_count": 18,
     "metadata": {},
     "output_type": "execute_result"
    }
   ],
   "source": [
    "df_pow_block_rate_full = pd.concat([df_pow_block_rate_window, df_nethash_MA, df[\"height\"]],axis=1)\n",
    "df_pow_block_rate_full_row_count = df_pow_block_rate_full.count()[0]\n",
    "print(df_pow_block_rate_full_row_count)\n",
    "df_pow_block_rate_full = df_pow_block_rate_full.dropna()\n",
    "df_pow_block_rate_full.head(5)"
   ]
  },
  {
   "cell_type": "code",
   "execution_count": 19,
   "metadata": {},
   "outputs": [
    {
     "data": {
      "text/html": [
       "<div>\n",
       "<style scoped>\n",
       "    .dataframe tbody tr th:only-of-type {\n",
       "        vertical-align: middle;\n",
       "    }\n",
       "\n",
       "    .dataframe tbody tr th {\n",
       "        vertical-align: top;\n",
       "    }\n",
       "\n",
       "    .dataframe thead th {\n",
       "        text-align: right;\n",
       "    }\n",
       "</style>\n",
       "<table border=\"1\" class=\"dataframe\">\n",
       "  <thead>\n",
       "    <tr style=\"text-align: right;\">\n",
       "      <th></th>\n",
       "      <th>time</th>\n",
       "      <th>pow_index</th>\n",
       "      <th>block_per_day</th>\n",
       "      <th>nethash</th>\n",
       "      <th>height</th>\n",
       "      <th>profit</th>\n",
       "    </tr>\n",
       "  </thead>\n",
       "  <tbody>\n",
       "    <tr>\n",
       "      <th>4</th>\n",
       "      <td>34693.0</td>\n",
       "      <td>202.0</td>\n",
       "      <td>503.064019</td>\n",
       "      <td>231903.2</td>\n",
       "      <td>150584</td>\n",
       "      <td>17.571204</td>\n",
       "    </tr>\n",
       "    <tr>\n",
       "      <th>5</th>\n",
       "      <td>34194.0</td>\n",
       "      <td>202.0</td>\n",
       "      <td>510.405334</td>\n",
       "      <td>227619.6</td>\n",
       "      <td>150580</td>\n",
       "      <td>18.163125</td>\n",
       "    </tr>\n",
       "    <tr>\n",
       "      <th>6</th>\n",
       "      <td>34277.0</td>\n",
       "      <td>202.0</td>\n",
       "      <td>509.169414</td>\n",
       "      <td>229758.0</td>\n",
       "      <td>150579</td>\n",
       "      <td>17.950506</td>\n",
       "    </tr>\n",
       "    <tr>\n",
       "      <th>7</th>\n",
       "      <td>33671.0</td>\n",
       "      <td>202.0</td>\n",
       "      <td>518.333284</td>\n",
       "      <td>247536.6</td>\n",
       "      <td>150577</td>\n",
       "      <td>16.961127</td>\n",
       "    </tr>\n",
       "    <tr>\n",
       "      <th>8</th>\n",
       "      <td>33666.0</td>\n",
       "      <td>202.0</td>\n",
       "      <td>518.410266</td>\n",
       "      <td>247521.2</td>\n",
       "      <td>150575</td>\n",
       "      <td>16.964701</td>\n",
       "    </tr>\n",
       "  </tbody>\n",
       "</table>\n",
       "</div>"
      ],
      "text/plain": [
       "      time  pow_index  block_per_day   nethash  height     profit\n",
       "4  34693.0      202.0     503.064019  231903.2  150584  17.571204\n",
       "5  34194.0      202.0     510.405334  227619.6  150580  18.163125\n",
       "6  34277.0      202.0     509.169414  229758.0  150579  17.950506\n",
       "7  33671.0      202.0     518.333284  247536.6  150577  16.961127\n",
       "8  33666.0      202.0     518.410266  247521.2  150575  16.964701"
      ]
     },
     "execution_count": 19,
     "metadata": {},
     "output_type": "execute_result"
    }
   ],
   "source": [
    "df_pow_nethash_block_profit = df_pow_block_rate_full\n",
    "df_pow_nethash_block_profit[\"profit\"] = df_pow_block_rate_full[\"block_per_day\"]*our_nethash/df_pow_block_rate_full[\"nethash\"]*coin_per_block\n",
    "df_pow_nethash_block_profit.head(5)"
   ]
  },
  {
   "cell_type": "code",
   "execution_count": 20,
   "metadata": {},
   "outputs": [
    {
     "data": {
      "image/png": "[encoded data removed]",
      "text/plain": [
       "<Figure size 1440x1080 with 3 Axes>"
      ]
     },
     "metadata": {},
     "output_type": "display_data"
    }
   ],
   "source": [
    "fig = plt.figure(figsize=(20,15))\n",
    "plt.subplot(3, 1, 1)\n",
    "plt.plot(df_pow_nethash_block_profit['height'], df_pow_nethash_block_profit['block_per_day'])\n",
    "plt.plot(df_pow_nethash_block_profit['height'], \n",
    "         [np.mean(df_pow_nethash_block_profit['block_per_day'])]*df_pow_nethash_block_profit['height'].count(), \n",
    "         linestyle = '--', linewidth = 1)\n",
    "\n",
    "plt.title('Block Speed')\n",
    "plt.xlabel('Block ID')\n",
    "plt.ylabel('Block/Day')\n",
    "\n",
    "plt.subplot(3, 1, 2)\n",
    "plt.plot(df_pow_nethash_block_profit['height'], df_pow_nethash_block_profit['nethash'], color='red')\n",
    "plt.plot(df_pow_nethash_block_profit['height'], \n",
    "         [np.mean(df_pow_nethash_block_profit['nethash'])]*df_pow_nethash_block_profit['height'].count(), \n",
    "         linestyle = '--', linewidth = 1)\n",
    "plt.title('Globle Nethash (GH)')\n",
    "plt.xlabel('Block ID')\n",
    "plt.ylabel('Nethash')\n",
    "\n",
    "plt.subplot(3, 1, 3)\n",
    "plt.plot(df_pow_nethash_block_profit['height'], df_pow_nethash_block_profit['profit'], color='blue')\n",
    "plt.plot(df_pow_nethash_block_profit['height'], \n",
    "         [np.mean(df_pow_nethash_block_profit['profit'])]*df_pow_nethash_block_profit['height'].count(), \n",
    "         linestyle = '--', linewidth = 1)\n",
    "plt.title('Our Profit (Coin/Day)')\n",
    "plt.xlabel('Block ID')\n",
    "plt.ylabel('Coin/Day')\n",
    "\n",
    "plt.show()\n"
   ]
  },
  {
   "cell_type": "code",
   "execution_count": null,
   "metadata": {},
   "outputs": [],
   "source": []
  }
 ],
 "metadata": {
  "kernelspec": {
   "display_name": "Python 2",
   "language": "python",
   "name": "python2"
  },
  "language_info": {
   "codemirror_mode": {
    "name": "ipython",
    "version": 2
   },
   "file_extension": ".py",
   "mimetype": "text/x-python",
   "name": "python",
   "nbconvert_exporter": "python",
   "pygments_lexer": "ipython2",
   "version": "2.7.15"
  }
 },
 "nbformat": 4,
 "nbformat_minor": 2
}
