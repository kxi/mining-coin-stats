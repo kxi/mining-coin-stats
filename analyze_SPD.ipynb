{
 "cells": [
  {
   "cell_type": "code",
   "execution_count": 1,
   "metadata": {},
   "outputs": [],
   "source": [
    "import os\n",
    "import pandas as pd\n",
    "import numpy as np\n",
    "import matplotlib.pyplot as plt"
   ]
  },
  {
   "cell_type": "code",
   "execution_count": 2,
   "metadata": {},
   "outputs": [],
   "source": [
    "COIN_BLOCK_INFO_PATH = \"coin_block_info\"\n",
    "\n",
    "coin = \"SPD\"\n",
    "coin_per_block = 15\n",
    "our_nethash = 20\n",
    "\n",
    "fname = os.path.join(COIN_BLOCK_INFO_PATH, coin+\"_block_info.csv\")"
   ]
  },
  {
   "cell_type": "code",
   "execution_count": 3,
   "metadata": {},
   "outputs": [],
   "source": [
    "df = pd.read_csv(fname)"
   ]
  },
  {
   "cell_type": "code",
   "execution_count": 4,
   "metadata": {},
   "outputs": [],
   "source": [
    "df['date'] = pd.to_datetime(df['time'],unit='s')"
   ]
  },
  {
   "cell_type": "code",
   "execution_count": 5,
   "metadata": {},
   "outputs": [
    {
     "name": "stdout",
     "output_type": "stream",
     "text": [
      "Number of Blocks: 2000\n"
     ]
    }
   ],
   "source": [
    "print(\"Number of Blocks: {}\".format(df.count()[0]))"
   ]
  },
  {
   "cell_type": "code",
   "execution_count": 6,
   "metadata": {},
   "outputs": [
    {
     "name": "stdout",
     "output_type": "stream",
     "text": [
      "Latest Block: 149533\n"
     ]
    }
   ],
   "source": [
    "print(\"Latest Block: {}\".format(int(df[\"height\"][0])))"
   ]
  },
  {
   "cell_type": "code",
   "execution_count": 7,
   "metadata": {},
   "outputs": [
    {
     "data": {
      "text/html": [
       "<div>\n",
       "<style scoped>\n",
       "    .dataframe tbody tr th:only-of-type {\n",
       "        vertical-align: middle;\n",
       "    }\n",
       "\n",
       "    .dataframe tbody tr th {\n",
       "        vertical-align: top;\n",
       "    }\n",
       "\n",
       "    .dataframe thead th {\n",
       "        text-align: right;\n",
       "    }\n",
       "</style>\n",
       "<table border=\"1\" class=\"dataframe\">\n",
       "  <thead>\n",
       "    <tr style=\"text-align: right;\">\n",
       "      <th></th>\n",
       "      <th>difficulty</th>\n",
       "      <th>flags</th>\n",
       "      <th>height</th>\n",
       "      <th>nonce</th>\n",
       "      <th>time</th>\n",
       "      <th>date</th>\n",
       "    </tr>\n",
       "  </thead>\n",
       "  <tbody>\n",
       "    <tr>\n",
       "      <th>0</th>\n",
       "      <td>81960.645777</td>\n",
       "      <td>proof-of-stake</td>\n",
       "      <td>149533.0</td>\n",
       "      <td>0.000000e+00</td>\n",
       "      <td>1.525614e+09</td>\n",
       "      <td>2018-05-06 13:40:32</td>\n",
       "    </tr>\n",
       "    <tr>\n",
       "      <th>1</th>\n",
       "      <td>74067.908806</td>\n",
       "      <td>proof-of-stake</td>\n",
       "      <td>149532.0</td>\n",
       "      <td>0.000000e+00</td>\n",
       "      <td>1.525614e+09</td>\n",
       "      <td>2018-05-06 13:40:00</td>\n",
       "    </tr>\n",
       "    <tr>\n",
       "      <th>2</th>\n",
       "      <td>66935.272501</td>\n",
       "      <td>proof-of-stake</td>\n",
       "      <td>149531.0</td>\n",
       "      <td>0.000000e+00</td>\n",
       "      <td>1.525614e+09</td>\n",
       "      <td>2018-05-06 13:38:56</td>\n",
       "    </tr>\n",
       "    <tr>\n",
       "      <th>3</th>\n",
       "      <td>5285.818250</td>\n",
       "      <td>proof-of-work</td>\n",
       "      <td>149530.0</td>\n",
       "      <td>3.639758e+09</td>\n",
       "      <td>1.525614e+09</td>\n",
       "      <td>2018-05-06 13:37:53</td>\n",
       "    </tr>\n",
       "    <tr>\n",
       "      <th>4</th>\n",
       "      <td>52556.311307</td>\n",
       "      <td>proof-of-stake</td>\n",
       "      <td>149529.0</td>\n",
       "      <td>0.000000e+00</td>\n",
       "      <td>1.525614e+09</td>\n",
       "      <td>2018-05-06 13:37:52</td>\n",
       "    </tr>\n",
       "  </tbody>\n",
       "</table>\n",
       "</div>"
      ],
      "text/plain": [
       "     difficulty           flags    height         nonce          time  \\\n",
       "0  81960.645777  proof-of-stake  149533.0  0.000000e+00  1.525614e+09   \n",
       "1  74067.908806  proof-of-stake  149532.0  0.000000e+00  1.525614e+09   \n",
       "2  66935.272501  proof-of-stake  149531.0  0.000000e+00  1.525614e+09   \n",
       "3   5285.818250   proof-of-work  149530.0  3.639758e+09  1.525614e+09   \n",
       "4  52556.311307  proof-of-stake  149529.0  0.000000e+00  1.525614e+09   \n",
       "\n",
       "                 date  \n",
       "0 2018-05-06 13:40:32  \n",
       "1 2018-05-06 13:40:00  \n",
       "2 2018-05-06 13:38:56  \n",
       "3 2018-05-06 13:37:53  \n",
       "4 2018-05-06 13:37:52  "
      ]
     },
     "execution_count": 7,
     "metadata": {},
     "output_type": "execute_result"
    }
   ],
   "source": [
    "df.head(5)"
   ]
  },
  {
   "cell_type": "code",
   "execution_count": 8,
   "metadata": {},
   "outputs": [
    {
     "data": {
      "text/html": [
       "<div>\n",
       "<style scoped>\n",
       "    .dataframe tbody tr th:only-of-type {\n",
       "        vertical-align: middle;\n",
       "    }\n",
       "\n",
       "    .dataframe tbody tr th {\n",
       "        vertical-align: top;\n",
       "    }\n",
       "\n",
       "    .dataframe thead th {\n",
       "        text-align: right;\n",
       "    }\n",
       "</style>\n",
       "<table border=\"1\" class=\"dataframe\">\n",
       "  <thead>\n",
       "    <tr style=\"text-align: right;\">\n",
       "      <th></th>\n",
       "      <th>flags</th>\n",
       "      <th>counts</th>\n",
       "      <th>percentage</th>\n",
       "    </tr>\n",
       "  </thead>\n",
       "  <tbody>\n",
       "    <tr>\n",
       "      <th>0</th>\n",
       "      <td>proof-of-stake</td>\n",
       "      <td>919</td>\n",
       "      <td>0.4595</td>\n",
       "    </tr>\n",
       "    <tr>\n",
       "      <th>1</th>\n",
       "      <td>proof-of-stake stake-modifier</td>\n",
       "      <td>335</td>\n",
       "      <td>0.1675</td>\n",
       "    </tr>\n",
       "    <tr>\n",
       "      <th>2</th>\n",
       "      <td>proof-of-work</td>\n",
       "      <td>546</td>\n",
       "      <td>0.2730</td>\n",
       "    </tr>\n",
       "    <tr>\n",
       "      <th>3</th>\n",
       "      <td>proof-of-work stake-modifier</td>\n",
       "      <td>200</td>\n",
       "      <td>0.1000</td>\n",
       "    </tr>\n",
       "  </tbody>\n",
       "</table>\n",
       "</div>"
      ],
      "text/plain": [
       "                           flags  counts  percentage\n",
       "0                 proof-of-stake     919      0.4595\n",
       "1  proof-of-stake stake-modifier     335      0.1675\n",
       "2                  proof-of-work     546      0.2730\n",
       "3   proof-of-work stake-modifier     200      0.1000"
      ]
     },
     "execution_count": 8,
     "metadata": {},
     "output_type": "execute_result"
    }
   ],
   "source": [
    "df_type = df.groupby(\"flags\").size().reset_index(name='counts')\n",
    "df_type[\"percentage\"]=df_type[\"counts\"]/sum(df_type[\"counts\"])\n",
    "df_type"
   ]
  },
  {
   "cell_type": "code",
   "execution_count": 9,
   "metadata": {},
   "outputs": [
    {
     "data": {
      "text/html": [
       "<div>\n",
       "<style scoped>\n",
       "    .dataframe tbody tr th:only-of-type {\n",
       "        vertical-align: middle;\n",
       "    }\n",
       "\n",
       "    .dataframe tbody tr th {\n",
       "        vertical-align: top;\n",
       "    }\n",
       "\n",
       "    .dataframe thead th {\n",
       "        text-align: right;\n",
       "    }\n",
       "</style>\n",
       "<table border=\"1\" class=\"dataframe\">\n",
       "  <thead>\n",
       "    <tr style=\"text-align: right;\">\n",
       "      <th></th>\n",
       "      <th>index</th>\n",
       "      <th>flags</th>\n",
       "      <th>height</th>\n",
       "      <th>time</th>\n",
       "    </tr>\n",
       "  </thead>\n",
       "  <tbody>\n",
       "    <tr>\n",
       "      <th>0</th>\n",
       "      <td>3</td>\n",
       "      <td>proof-of-work</td>\n",
       "      <td>149530.0</td>\n",
       "      <td>1.525614e+09</td>\n",
       "    </tr>\n",
       "    <tr>\n",
       "      <th>1</th>\n",
       "      <td>6</td>\n",
       "      <td>proof-of-work</td>\n",
       "      <td>149527.0</td>\n",
       "      <td>1.525614e+09</td>\n",
       "    </tr>\n",
       "    <tr>\n",
       "      <th>2</th>\n",
       "      <td>7</td>\n",
       "      <td>proof-of-work</td>\n",
       "      <td>149526.0</td>\n",
       "      <td>1.525614e+09</td>\n",
       "    </tr>\n",
       "    <tr>\n",
       "      <th>3</th>\n",
       "      <td>12</td>\n",
       "      <td>proof-of-work</td>\n",
       "      <td>149521.0</td>\n",
       "      <td>1.525614e+09</td>\n",
       "    </tr>\n",
       "    <tr>\n",
       "      <th>4</th>\n",
       "      <td>15</td>\n",
       "      <td>proof-of-work</td>\n",
       "      <td>149518.0</td>\n",
       "      <td>1.525614e+09</td>\n",
       "    </tr>\n",
       "    <tr>\n",
       "      <th>5</th>\n",
       "      <td>16</td>\n",
       "      <td>proof-of-work</td>\n",
       "      <td>149517.0</td>\n",
       "      <td>1.525613e+09</td>\n",
       "    </tr>\n",
       "    <tr>\n",
       "      <th>6</th>\n",
       "      <td>17</td>\n",
       "      <td>proof-of-work</td>\n",
       "      <td>149516.0</td>\n",
       "      <td>1.525613e+09</td>\n",
       "    </tr>\n",
       "    <tr>\n",
       "      <th>7</th>\n",
       "      <td>22</td>\n",
       "      <td>proof-of-work stake-modifier</td>\n",
       "      <td>149511.0</td>\n",
       "      <td>1.525613e+09</td>\n",
       "    </tr>\n",
       "    <tr>\n",
       "      <th>8</th>\n",
       "      <td>23</td>\n",
       "      <td>proof-of-work</td>\n",
       "      <td>149510.0</td>\n",
       "      <td>1.525613e+09</td>\n",
       "    </tr>\n",
       "    <tr>\n",
       "      <th>9</th>\n",
       "      <td>24</td>\n",
       "      <td>proof-of-work</td>\n",
       "      <td>149509.0</td>\n",
       "      <td>1.525613e+09</td>\n",
       "    </tr>\n",
       "  </tbody>\n",
       "</table>\n",
       "</div>"
      ],
      "text/plain": [
       "   index                         flags    height          time\n",
       "0      3                 proof-of-work  149530.0  1.525614e+09\n",
       "1      6                 proof-of-work  149527.0  1.525614e+09\n",
       "2      7                 proof-of-work  149526.0  1.525614e+09\n",
       "3     12                 proof-of-work  149521.0  1.525614e+09\n",
       "4     15                 proof-of-work  149518.0  1.525614e+09\n",
       "5     16                 proof-of-work  149517.0  1.525613e+09\n",
       "6     17                 proof-of-work  149516.0  1.525613e+09\n",
       "7     22  proof-of-work stake-modifier  149511.0  1.525613e+09\n",
       "8     23                 proof-of-work  149510.0  1.525613e+09\n",
       "9     24                 proof-of-work  149509.0  1.525613e+09"
      ]
     },
     "execution_count": 9,
     "metadata": {},
     "output_type": "execute_result"
    }
   ],
   "source": [
    "df_pow_block_rate = df[['flags','height','time']][df['flags'].str.contains(\"proof-of-work\")].reset_index()\n",
    "df_pow_block_rate.head(10)"
   ]
  },
  {
   "cell_type": "code",
   "execution_count": 10,
   "metadata": {},
   "outputs": [
    {
     "data": {
      "text/html": [
       "<div>\n",
       "<style scoped>\n",
       "    .dataframe tbody tr th:only-of-type {\n",
       "        vertical-align: middle;\n",
       "    }\n",
       "\n",
       "    .dataframe tbody tr th {\n",
       "        vertical-align: top;\n",
       "    }\n",
       "\n",
       "    .dataframe thead th {\n",
       "        text-align: right;\n",
       "    }\n",
       "</style>\n",
       "<table border=\"1\" class=\"dataframe\">\n",
       "  <thead>\n",
       "    <tr style=\"text-align: right;\">\n",
       "      <th></th>\n",
       "      <th>index</th>\n",
       "      <th>flags</th>\n",
       "      <th>height</th>\n",
       "      <th>time</th>\n",
       "    </tr>\n",
       "  </thead>\n",
       "  <tbody>\n",
       "    <tr>\n",
       "      <th>0</th>\n",
       "      <td>0</td>\n",
       "      <td>proof-of-stake</td>\n",
       "      <td>149533.0</td>\n",
       "      <td>1.525614e+09</td>\n",
       "    </tr>\n",
       "    <tr>\n",
       "      <th>1</th>\n",
       "      <td>1</td>\n",
       "      <td>proof-of-stake</td>\n",
       "      <td>149532.0</td>\n",
       "      <td>1.525614e+09</td>\n",
       "    </tr>\n",
       "    <tr>\n",
       "      <th>2</th>\n",
       "      <td>2</td>\n",
       "      <td>proof-of-stake</td>\n",
       "      <td>149531.0</td>\n",
       "      <td>1.525614e+09</td>\n",
       "    </tr>\n",
       "    <tr>\n",
       "      <th>3</th>\n",
       "      <td>4</td>\n",
       "      <td>proof-of-stake</td>\n",
       "      <td>149529.0</td>\n",
       "      <td>1.525614e+09</td>\n",
       "    </tr>\n",
       "    <tr>\n",
       "      <th>4</th>\n",
       "      <td>5</td>\n",
       "      <td>proof-of-stake</td>\n",
       "      <td>149528.0</td>\n",
       "      <td>1.525614e+09</td>\n",
       "    </tr>\n",
       "    <tr>\n",
       "      <th>5</th>\n",
       "      <td>8</td>\n",
       "      <td>proof-of-stake</td>\n",
       "      <td>149525.0</td>\n",
       "      <td>1.525614e+09</td>\n",
       "    </tr>\n",
       "    <tr>\n",
       "      <th>6</th>\n",
       "      <td>9</td>\n",
       "      <td>proof-of-stake</td>\n",
       "      <td>149524.0</td>\n",
       "      <td>1.525614e+09</td>\n",
       "    </tr>\n",
       "    <tr>\n",
       "      <th>7</th>\n",
       "      <td>10</td>\n",
       "      <td>proof-of-stake</td>\n",
       "      <td>149523.0</td>\n",
       "      <td>1.525614e+09</td>\n",
       "    </tr>\n",
       "    <tr>\n",
       "      <th>8</th>\n",
       "      <td>11</td>\n",
       "      <td>proof-of-stake</td>\n",
       "      <td>149522.0</td>\n",
       "      <td>1.525614e+09</td>\n",
       "    </tr>\n",
       "    <tr>\n",
       "      <th>9</th>\n",
       "      <td>13</td>\n",
       "      <td>proof-of-stake</td>\n",
       "      <td>149520.0</td>\n",
       "      <td>1.525614e+09</td>\n",
       "    </tr>\n",
       "  </tbody>\n",
       "</table>\n",
       "</div>"
      ],
      "text/plain": [
       "   index           flags    height          time\n",
       "0      0  proof-of-stake  149533.0  1.525614e+09\n",
       "1      1  proof-of-stake  149532.0  1.525614e+09\n",
       "2      2  proof-of-stake  149531.0  1.525614e+09\n",
       "3      4  proof-of-stake  149529.0  1.525614e+09\n",
       "4      5  proof-of-stake  149528.0  1.525614e+09\n",
       "5      8  proof-of-stake  149525.0  1.525614e+09\n",
       "6      9  proof-of-stake  149524.0  1.525614e+09\n",
       "7     10  proof-of-stake  149523.0  1.525614e+09\n",
       "8     11  proof-of-stake  149522.0  1.525614e+09\n",
       "9     13  proof-of-stake  149520.0  1.525614e+09"
      ]
     },
     "execution_count": 10,
     "metadata": {},
     "output_type": "execute_result"
    }
   ],
   "source": [
    "df_pos_block_rate = df[['flags','height','time']][df['flags'].str.contains(\"proof-of-stake\")].reset_index()\n",
    "df_pos_block_rate.head(10)"
   ]
  },
  {
   "cell_type": "code",
   "execution_count": 11,
   "metadata": {},
   "outputs": [
    {
     "name": "stdout",
     "output_type": "stream",
     "text": [
      "MA Windows = 372\n"
     ]
    }
   ],
   "source": [
    "MA_window = min(400, int((df_pow_block_rate.count()[0]-1)*0.5))\n",
    "print(\"MA Windows = {}\".format(MA_window))"
   ]
  },
  {
   "cell_type": "code",
   "execution_count": 12,
   "metadata": {},
   "outputs": [
    {
     "name": "stdout",
     "output_type": "stream",
     "text": [
      "Num of POW = 746\n",
      "Num of POS = 1254\n"
     ]
    }
   ],
   "source": [
    "df_pow_count = df_pow_block_rate.count()[0]\n",
    "df_pos_count = df_pos_block_rate.count()[0]\n",
    "print(\"Num of POW = {}\".format(df_pow_count))\n",
    "print(\"Num of POS = {}\".format(df_pos_count))"
   ]
  },
  {
   "cell_type": "code",
   "execution_count": 13,
   "metadata": {},
   "outputs": [
    {
     "data": {
      "text/html": [
       "<div>\n",
       "<style scoped>\n",
       "    .dataframe tbody tr th:only-of-type {\n",
       "        vertical-align: middle;\n",
       "    }\n",
       "\n",
       "    .dataframe tbody tr th {\n",
       "        vertical-align: top;\n",
       "    }\n",
       "\n",
       "    .dataframe thead th {\n",
       "        text-align: right;\n",
       "    }\n",
       "</style>\n",
       "<table border=\"1\" class=\"dataframe\">\n",
       "  <thead>\n",
       "    <tr style=\"text-align: right;\">\n",
       "      <th></th>\n",
       "      <th>index</th>\n",
       "      <th>flags</th>\n",
       "      <th>height</th>\n",
       "      <th>time</th>\n",
       "      <th>pow_index</th>\n",
       "    </tr>\n",
       "  </thead>\n",
       "  <tbody>\n",
       "    <tr>\n",
       "      <th>741</th>\n",
       "      <td>1988</td>\n",
       "      <td>proof-of-work</td>\n",
       "      <td>147545.0</td>\n",
       "      <td>1.525533e+09</td>\n",
       "      <td>4</td>\n",
       "    </tr>\n",
       "    <tr>\n",
       "      <th>742</th>\n",
       "      <td>1991</td>\n",
       "      <td>proof-of-work</td>\n",
       "      <td>147542.0</td>\n",
       "      <td>1.525533e+09</td>\n",
       "      <td>3</td>\n",
       "    </tr>\n",
       "    <tr>\n",
       "      <th>743</th>\n",
       "      <td>1992</td>\n",
       "      <td>proof-of-work</td>\n",
       "      <td>147541.0</td>\n",
       "      <td>1.525533e+09</td>\n",
       "      <td>2</td>\n",
       "    </tr>\n",
       "    <tr>\n",
       "      <th>744</th>\n",
       "      <td>1993</td>\n",
       "      <td>proof-of-work</td>\n",
       "      <td>147540.0</td>\n",
       "      <td>1.525533e+09</td>\n",
       "      <td>1</td>\n",
       "    </tr>\n",
       "    <tr>\n",
       "      <th>745</th>\n",
       "      <td>1997</td>\n",
       "      <td>proof-of-work</td>\n",
       "      <td>147536.0</td>\n",
       "      <td>1.525533e+09</td>\n",
       "      <td>0</td>\n",
       "    </tr>\n",
       "  </tbody>\n",
       "</table>\n",
       "</div>"
      ],
      "text/plain": [
       "     index          flags    height          time  pow_index\n",
       "741   1988  proof-of-work  147545.0  1.525533e+09          4\n",
       "742   1991  proof-of-work  147542.0  1.525533e+09          3\n",
       "743   1992  proof-of-work  147541.0  1.525533e+09          2\n",
       "744   1993  proof-of-work  147540.0  1.525533e+09          1\n",
       "745   1997  proof-of-work  147536.0  1.525533e+09          0"
      ]
     },
     "execution_count": 13,
     "metadata": {},
     "output_type": "execute_result"
    }
   ],
   "source": [
    "df_pow_block_rate['pow_index'] = pd.DataFrame(range(df_pow_count)[::-1])\n",
    "df_pow_block_rate.tail(5)"
   ]
  },
  {
   "cell_type": "code",
   "execution_count": 14,
   "metadata": {},
   "outputs": [
    {
     "data": {
      "text/html": [
       "<div>\n",
       "<style scoped>\n",
       "    .dataframe tbody tr th:only-of-type {\n",
       "        vertical-align: middle;\n",
       "    }\n",
       "\n",
       "    .dataframe tbody tr th {\n",
       "        vertical-align: top;\n",
       "    }\n",
       "\n",
       "    .dataframe thead th {\n",
       "        text-align: right;\n",
       "    }\n",
       "</style>\n",
       "<table border=\"1\" class=\"dataframe\">\n",
       "  <thead>\n",
       "    <tr style=\"text-align: right;\">\n",
       "      <th></th>\n",
       "      <th>index</th>\n",
       "      <th>flags</th>\n",
       "      <th>height</th>\n",
       "      <th>time</th>\n",
       "      <th>pos_index</th>\n",
       "    </tr>\n",
       "  </thead>\n",
       "  <tbody>\n",
       "    <tr>\n",
       "      <th>1249</th>\n",
       "      <td>1994</td>\n",
       "      <td>proof-of-stake stake-modifier</td>\n",
       "      <td>147539.0</td>\n",
       "      <td>1.525533e+09</td>\n",
       "      <td>4</td>\n",
       "    </tr>\n",
       "    <tr>\n",
       "      <th>1250</th>\n",
       "      <td>1995</td>\n",
       "      <td>proof-of-stake</td>\n",
       "      <td>147538.0</td>\n",
       "      <td>1.525533e+09</td>\n",
       "      <td>3</td>\n",
       "    </tr>\n",
       "    <tr>\n",
       "      <th>1251</th>\n",
       "      <td>1996</td>\n",
       "      <td>proof-of-stake</td>\n",
       "      <td>147537.0</td>\n",
       "      <td>1.525533e+09</td>\n",
       "      <td>2</td>\n",
       "    </tr>\n",
       "    <tr>\n",
       "      <th>1252</th>\n",
       "      <td>1998</td>\n",
       "      <td>proof-of-stake stake-modifier</td>\n",
       "      <td>147535.0</td>\n",
       "      <td>1.525533e+09</td>\n",
       "      <td>1</td>\n",
       "    </tr>\n",
       "    <tr>\n",
       "      <th>1253</th>\n",
       "      <td>1999</td>\n",
       "      <td>proof-of-stake</td>\n",
       "      <td>147534.0</td>\n",
       "      <td>1.525533e+09</td>\n",
       "      <td>0</td>\n",
       "    </tr>\n",
       "  </tbody>\n",
       "</table>\n",
       "</div>"
      ],
      "text/plain": [
       "      index                          flags    height          time  pos_index\n",
       "1249   1994  proof-of-stake stake-modifier  147539.0  1.525533e+09          4\n",
       "1250   1995                 proof-of-stake  147538.0  1.525533e+09          3\n",
       "1251   1996                 proof-of-stake  147537.0  1.525533e+09          2\n",
       "1252   1998  proof-of-stake stake-modifier  147535.0  1.525533e+09          1\n",
       "1253   1999                 proof-of-stake  147534.0  1.525533e+09          0"
      ]
     },
     "execution_count": 14,
     "metadata": {},
     "output_type": "execute_result"
    }
   ],
   "source": [
    "df_pos_block_rate['pos_index'] = pd.DataFrame(range(df_pos_count)[::-1])\n",
    "df_pos_block_rate.tail(5)"
   ]
  },
  {
   "cell_type": "code",
   "execution_count": 15,
   "metadata": {},
   "outputs": [
    {
     "data": {
      "text/html": [
       "<div>\n",
       "<style scoped>\n",
       "    .dataframe tbody tr th:only-of-type {\n",
       "        vertical-align: middle;\n",
       "    }\n",
       "\n",
       "    .dataframe tbody tr th {\n",
       "        vertical-align: top;\n",
       "    }\n",
       "\n",
       "    .dataframe thead th {\n",
       "        text-align: right;\n",
       "    }\n",
       "</style>\n",
       "<table border=\"1\" class=\"dataframe\">\n",
       "  <thead>\n",
       "    <tr style=\"text-align: right;\">\n",
       "      <th></th>\n",
       "      <th>time</th>\n",
       "      <th>pow_index</th>\n",
       "    </tr>\n",
       "  </thead>\n",
       "  <tbody>\n",
       "    <tr>\n",
       "      <th>0</th>\n",
       "      <td>39583.0</td>\n",
       "      <td>372.0</td>\n",
       "    </tr>\n",
       "    <tr>\n",
       "      <th>1</th>\n",
       "      <td>39556.0</td>\n",
       "      <td>372.0</td>\n",
       "    </tr>\n",
       "    <tr>\n",
       "      <th>2</th>\n",
       "      <td>39664.0</td>\n",
       "      <td>372.0</td>\n",
       "    </tr>\n",
       "    <tr>\n",
       "      <th>3</th>\n",
       "      <td>39607.0</td>\n",
       "      <td>372.0</td>\n",
       "    </tr>\n",
       "    <tr>\n",
       "      <th>4</th>\n",
       "      <td>39534.0</td>\n",
       "      <td>372.0</td>\n",
       "    </tr>\n",
       "  </tbody>\n",
       "</table>\n",
       "</div>"
      ],
      "text/plain": [
       "      time  pow_index\n",
       "0  39583.0      372.0\n",
       "1  39556.0      372.0\n",
       "2  39664.0      372.0\n",
       "3  39607.0      372.0\n",
       "4  39534.0      372.0"
      ]
     },
     "execution_count": 15,
     "metadata": {},
     "output_type": "execute_result"
    }
   ],
   "source": [
    "df_pow_block_rate_window = df_pow_block_rate[[\"time\", \"pow_index\"]].diff(-MA_window)\n",
    "df_pow_block_rate_window.head(5)"
   ]
  },
  {
   "cell_type": "code",
   "execution_count": 16,
   "metadata": {},
   "outputs": [
    {
     "data": {
      "text/html": [
       "<div>\n",
       "<style scoped>\n",
       "    .dataframe tbody tr th:only-of-type {\n",
       "        vertical-align: middle;\n",
       "    }\n",
       "\n",
       "    .dataframe tbody tr th {\n",
       "        vertical-align: top;\n",
       "    }\n",
       "\n",
       "    .dataframe thead th {\n",
       "        text-align: right;\n",
       "    }\n",
       "</style>\n",
       "<table border=\"1\" class=\"dataframe\">\n",
       "  <thead>\n",
       "    <tr style=\"text-align: right;\">\n",
       "      <th></th>\n",
       "      <th>time</th>\n",
       "      <th>pos_index</th>\n",
       "    </tr>\n",
       "  </thead>\n",
       "  <tbody>\n",
       "    <tr>\n",
       "      <th>0</th>\n",
       "      <td>25504.0</td>\n",
       "      <td>372.0</td>\n",
       "    </tr>\n",
       "    <tr>\n",
       "      <th>1</th>\n",
       "      <td>25504.0</td>\n",
       "      <td>372.0</td>\n",
       "    </tr>\n",
       "    <tr>\n",
       "      <th>2</th>\n",
       "      <td>25456.0</td>\n",
       "      <td>372.0</td>\n",
       "    </tr>\n",
       "    <tr>\n",
       "      <th>3</th>\n",
       "      <td>25440.0</td>\n",
       "      <td>372.0</td>\n",
       "    </tr>\n",
       "    <tr>\n",
       "      <th>4</th>\n",
       "      <td>25696.0</td>\n",
       "      <td>372.0</td>\n",
       "    </tr>\n",
       "  </tbody>\n",
       "</table>\n",
       "</div>"
      ],
      "text/plain": [
       "      time  pos_index\n",
       "0  25504.0      372.0\n",
       "1  25504.0      372.0\n",
       "2  25456.0      372.0\n",
       "3  25440.0      372.0\n",
       "4  25696.0      372.0"
      ]
     },
     "execution_count": 16,
     "metadata": {},
     "output_type": "execute_result"
    }
   ],
   "source": [
    "df_pos_block_rate_window = df_pos_block_rate[[\"time\", \"pos_index\"]].diff(-MA_window)\n",
    "df_pos_block_rate_window.head(5)"
   ]
  },
  {
   "cell_type": "code",
   "execution_count": 17,
   "metadata": {},
   "outputs": [
    {
     "data": {
      "text/html": [
       "<div>\n",
       "<style scoped>\n",
       "    .dataframe tbody tr th:only-of-type {\n",
       "        vertical-align: middle;\n",
       "    }\n",
       "\n",
       "    .dataframe tbody tr th {\n",
       "        vertical-align: top;\n",
       "    }\n",
       "\n",
       "    .dataframe thead th {\n",
       "        text-align: right;\n",
       "    }\n",
       "</style>\n",
       "<table border=\"1\" class=\"dataframe\">\n",
       "  <thead>\n",
       "    <tr style=\"text-align: right;\">\n",
       "      <th></th>\n",
       "      <th>time</th>\n",
       "      <th>pow_index</th>\n",
       "      <th>block_per_day</th>\n",
       "    </tr>\n",
       "  </thead>\n",
       "  <tbody>\n",
       "    <tr>\n",
       "      <th>0</th>\n",
       "      <td>39583.0</td>\n",
       "      <td>372.0</td>\n",
       "      <td>811.984943</td>\n",
       "    </tr>\n",
       "    <tr>\n",
       "      <th>1</th>\n",
       "      <td>39556.0</td>\n",
       "      <td>372.0</td>\n",
       "      <td>812.539185</td>\n",
       "    </tr>\n",
       "    <tr>\n",
       "      <th>2</th>\n",
       "      <td>39664.0</td>\n",
       "      <td>372.0</td>\n",
       "      <td>810.326745</td>\n",
       "    </tr>\n",
       "    <tr>\n",
       "      <th>3</th>\n",
       "      <td>39607.0</td>\n",
       "      <td>372.0</td>\n",
       "      <td>811.492918</td>\n",
       "    </tr>\n",
       "    <tr>\n",
       "      <th>4</th>\n",
       "      <td>39534.0</td>\n",
       "      <td>372.0</td>\n",
       "      <td>812.991349</td>\n",
       "    </tr>\n",
       "  </tbody>\n",
       "</table>\n",
       "</div>"
      ],
      "text/plain": [
       "      time  pow_index  block_per_day\n",
       "0  39583.0      372.0     811.984943\n",
       "1  39556.0      372.0     812.539185\n",
       "2  39664.0      372.0     810.326745\n",
       "3  39607.0      372.0     811.492918\n",
       "4  39534.0      372.0     812.991349"
      ]
     },
     "execution_count": 17,
     "metadata": {},
     "output_type": "execute_result"
    }
   ],
   "source": [
    "df_pow_block_rate_window['block_per_day']=df_pow_block_rate_window['pow_index']/df_pow_block_rate_window['time']*3600*24\n",
    "df_pow_block_rate_window.head(5)"
   ]
  },
  {
   "cell_type": "code",
   "execution_count": 18,
   "metadata": {},
   "outputs": [
    {
     "data": {
      "text/html": [
       "<div>\n",
       "<style scoped>\n",
       "    .dataframe tbody tr th:only-of-type {\n",
       "        vertical-align: middle;\n",
       "    }\n",
       "\n",
       "    .dataframe tbody tr th {\n",
       "        vertical-align: top;\n",
       "    }\n",
       "\n",
       "    .dataframe thead th {\n",
       "        text-align: right;\n",
       "    }\n",
       "</style>\n",
       "<table border=\"1\" class=\"dataframe\">\n",
       "  <thead>\n",
       "    <tr style=\"text-align: right;\">\n",
       "      <th></th>\n",
       "      <th>time</th>\n",
       "      <th>pos_index</th>\n",
       "      <th>block_per_day</th>\n",
       "    </tr>\n",
       "  </thead>\n",
       "  <tbody>\n",
       "    <tr>\n",
       "      <th>0</th>\n",
       "      <td>25504.0</td>\n",
       "      <td>372.0</td>\n",
       "      <td>1260.225847</td>\n",
       "    </tr>\n",
       "    <tr>\n",
       "      <th>1</th>\n",
       "      <td>25504.0</td>\n",
       "      <td>372.0</td>\n",
       "      <td>1260.225847</td>\n",
       "    </tr>\n",
       "    <tr>\n",
       "      <th>2</th>\n",
       "      <td>25456.0</td>\n",
       "      <td>372.0</td>\n",
       "      <td>1262.602137</td>\n",
       "    </tr>\n",
       "    <tr>\n",
       "      <th>3</th>\n",
       "      <td>25440.0</td>\n",
       "      <td>372.0</td>\n",
       "      <td>1263.396226</td>\n",
       "    </tr>\n",
       "    <tr>\n",
       "      <th>4</th>\n",
       "      <td>25696.0</td>\n",
       "      <td>372.0</td>\n",
       "      <td>1250.809465</td>\n",
       "    </tr>\n",
       "  </tbody>\n",
       "</table>\n",
       "</div>"
      ],
      "text/plain": [
       "      time  pos_index  block_per_day\n",
       "0  25504.0      372.0    1260.225847\n",
       "1  25504.0      372.0    1260.225847\n",
       "2  25456.0      372.0    1262.602137\n",
       "3  25440.0      372.0    1263.396226\n",
       "4  25696.0      372.0    1250.809465"
      ]
     },
     "execution_count": 18,
     "metadata": {},
     "output_type": "execute_result"
    }
   ],
   "source": [
    "df_pos_block_rate_window['block_per_day']=df_pos_block_rate_window['pos_index']/df_pos_block_rate_window['time']*3600*24\n",
    "df_pos_block_rate_window.head(5)"
   ]
  },
  {
   "cell_type": "code",
   "execution_count": 19,
   "metadata": {},
   "outputs": [
    {
     "name": "stdout",
     "output_type": "stream",
     "text": [
      "374\n"
     ]
    }
   ],
   "source": [
    "df_pow_block_rate_count = df_pow_block_rate_window.count()[0]\n",
    "print(df_pow_block_rate_count)"
   ]
  },
  {
   "cell_type": "code",
   "execution_count": 20,
   "metadata": {},
   "outputs": [],
   "source": [
    "df_pow_block_rate_full = pd.concat([df_pow_block_rate[\"height\"].head(df_pow_block_rate_count), df_pow_block_rate_window['block_per_day']],axis=1)"
   ]
  },
  {
   "cell_type": "code",
   "execution_count": 21,
   "metadata": {},
   "outputs": [
    {
     "data": {
      "text/html": [
       "<div>\n",
       "<style scoped>\n",
       "    .dataframe tbody tr th:only-of-type {\n",
       "        vertical-align: middle;\n",
       "    }\n",
       "\n",
       "    .dataframe tbody tr th {\n",
       "        vertical-align: top;\n",
       "    }\n",
       "\n",
       "    .dataframe thead th {\n",
       "        text-align: right;\n",
       "    }\n",
       "</style>\n",
       "<table border=\"1\" class=\"dataframe\">\n",
       "  <thead>\n",
       "    <tr style=\"text-align: right;\">\n",
       "      <th></th>\n",
       "      <th>height</th>\n",
       "      <th>block_per_day</th>\n",
       "    </tr>\n",
       "  </thead>\n",
       "  <tbody>\n",
       "    <tr>\n",
       "      <th>0</th>\n",
       "      <td>149530.0</td>\n",
       "      <td>811.984943</td>\n",
       "    </tr>\n",
       "    <tr>\n",
       "      <th>1</th>\n",
       "      <td>149527.0</td>\n",
       "      <td>812.539185</td>\n",
       "    </tr>\n",
       "    <tr>\n",
       "      <th>2</th>\n",
       "      <td>149526.0</td>\n",
       "      <td>810.326745</td>\n",
       "    </tr>\n",
       "  </tbody>\n",
       "</table>\n",
       "</div>"
      ],
      "text/plain": [
       "     height  block_per_day\n",
       "0  149530.0     811.984943\n",
       "1  149527.0     812.539185\n",
       "2  149526.0     810.326745"
      ]
     },
     "execution_count": 21,
     "metadata": {},
     "output_type": "execute_result"
    }
   ],
   "source": [
    "df_pow_block_rate_full.head(3)"
   ]
  },
  {
   "cell_type": "code",
   "execution_count": 22,
   "metadata": {},
   "outputs": [],
   "source": [
    "COIN_NETHASH_INFO_PATH = \"coin_nethash_info\"\n",
    "fname = os.path.join(COIN_NETHASH_INFO_PATH, coin+\"_nethash_info.csv\")"
   ]
  },
  {
   "cell_type": "code",
   "execution_count": 23,
   "metadata": {},
   "outputs": [],
   "source": [
    "df_nethash = pd.read_csv(fname)"
   ]
  },
  {
   "cell_type": "code",
   "execution_count": 24,
   "metadata": {},
   "outputs": [
    {
     "name": "stdout",
     "output_type": "stream",
     "text": [
      "Number of Nethash Sample: 1106\n"
     ]
    }
   ],
   "source": [
    "print(\"Number of Nethash Sample: {}\".format(df_nethash.count()[0]))"
   ]
  },
  {
   "cell_type": "code",
   "execution_count": 25,
   "metadata": {},
   "outputs": [
    {
     "name": "stdout",
     "output_type": "stream",
     "text": [
      "Latest Block: 149535\n"
     ]
    }
   ],
   "source": [
    "print(\"Latest Block: {}\".format(int(df_nethash[\"height\"][0])))"
   ]
  },
  {
   "cell_type": "code",
   "execution_count": 26,
   "metadata": {},
   "outputs": [
    {
     "data": {
      "text/html": [
       "<div>\n",
       "<style scoped>\n",
       "    .dataframe tbody tr th:only-of-type {\n",
       "        vertical-align: middle;\n",
       "    }\n",
       "\n",
       "    .dataframe tbody tr th {\n",
       "        vertical-align: top;\n",
       "    }\n",
       "\n",
       "    .dataframe thead th {\n",
       "        text-align: right;\n",
       "    }\n",
       "</style>\n",
       "<table border=\"1\" class=\"dataframe\">\n",
       "  <thead>\n",
       "    <tr style=\"text-align: right;\">\n",
       "      <th></th>\n",
       "      <th>height</th>\n",
       "      <th>nethash</th>\n",
       "    </tr>\n",
       "  </thead>\n",
       "  <tbody>\n",
       "    <tr>\n",
       "      <th>0</th>\n",
       "      <td>149535</td>\n",
       "      <td>250394</td>\n",
       "    </tr>\n",
       "    <tr>\n",
       "      <th>1</th>\n",
       "      <td>149533</td>\n",
       "      <td>273523</td>\n",
       "    </tr>\n",
       "    <tr>\n",
       "      <th>2</th>\n",
       "      <td>149532</td>\n",
       "      <td>273523</td>\n",
       "    </tr>\n",
       "    <tr>\n",
       "      <th>3</th>\n",
       "      <td>149531</td>\n",
       "      <td>273523</td>\n",
       "    </tr>\n",
       "    <tr>\n",
       "      <th>4</th>\n",
       "      <td>149530</td>\n",
       "      <td>273523</td>\n",
       "    </tr>\n",
       "  </tbody>\n",
       "</table>\n",
       "</div>"
      ],
      "text/plain": [
       "   height  nethash\n",
       "0  149535   250394\n",
       "1  149533   273523\n",
       "2  149532   273523\n",
       "3  149531   273523\n",
       "4  149530   273523"
      ]
     },
     "execution_count": 26,
     "metadata": {},
     "output_type": "execute_result"
    }
   ],
   "source": [
    "df_nethash.head(5)"
   ]
  },
  {
   "cell_type": "code",
   "execution_count": 27,
   "metadata": {},
   "outputs": [
    {
     "data": {
      "text/html": [
       "<div>\n",
       "<style scoped>\n",
       "    .dataframe tbody tr th:only-of-type {\n",
       "        vertical-align: middle;\n",
       "    }\n",
       "\n",
       "    .dataframe tbody tr th {\n",
       "        vertical-align: top;\n",
       "    }\n",
       "\n",
       "    .dataframe thead th {\n",
       "        text-align: right;\n",
       "    }\n",
       "</style>\n",
       "<table border=\"1\" class=\"dataframe\">\n",
       "  <thead>\n",
       "    <tr style=\"text-align: right;\">\n",
       "      <th></th>\n",
       "      <th>height</th>\n",
       "      <th>block_per_day</th>\n",
       "      <th>nethash</th>\n",
       "    </tr>\n",
       "  </thead>\n",
       "  <tbody>\n",
       "    <tr>\n",
       "      <th>0</th>\n",
       "      <td>149530</td>\n",
       "      <td>811.984943</td>\n",
       "      <td>273523</td>\n",
       "    </tr>\n",
       "    <tr>\n",
       "      <th>1</th>\n",
       "      <td>149527</td>\n",
       "      <td>812.539185</td>\n",
       "      <td>201596</td>\n",
       "    </tr>\n",
       "    <tr>\n",
       "      <th>2</th>\n",
       "      <td>149526</td>\n",
       "      <td>810.326745</td>\n",
       "      <td>224558</td>\n",
       "    </tr>\n",
       "  </tbody>\n",
       "</table>\n",
       "</div>"
      ],
      "text/plain": [
       "   height  block_per_day  nethash\n",
       "0  149530     811.984943   273523\n",
       "1  149527     812.539185   201596\n",
       "2  149526     810.326745   224558"
      ]
     },
     "execution_count": 27,
     "metadata": {},
     "output_type": "execute_result"
    }
   ],
   "source": [
    "df_pow_nethash_block = pd.merge(df_pow_block_rate_full, df_nethash, how='inner', on='height')\n",
    "df_pow_nethash_block.head(3)"
   ]
  },
  {
   "cell_type": "code",
   "execution_count": 28,
   "metadata": {},
   "outputs": [
    {
     "data": {
      "text/html": [
       "<div>\n",
       "<style scoped>\n",
       "    .dataframe tbody tr th:only-of-type {\n",
       "        vertical-align: middle;\n",
       "    }\n",
       "\n",
       "    .dataframe tbody tr th {\n",
       "        vertical-align: top;\n",
       "    }\n",
       "\n",
       "    .dataframe thead th {\n",
       "        text-align: right;\n",
       "    }\n",
       "</style>\n",
       "<table border=\"1\" class=\"dataframe\">\n",
       "  <thead>\n",
       "    <tr style=\"text-align: right;\">\n",
       "      <th></th>\n",
       "      <th>height</th>\n",
       "      <th>block_per_day</th>\n",
       "      <th>nethash</th>\n",
       "      <th>profit</th>\n",
       "    </tr>\n",
       "  </thead>\n",
       "  <tbody>\n",
       "    <tr>\n",
       "      <th>0</th>\n",
       "      <td>149530</td>\n",
       "      <td>811.984943</td>\n",
       "      <td>273523</td>\n",
       "      <td>0.890585</td>\n",
       "    </tr>\n",
       "    <tr>\n",
       "      <th>1</th>\n",
       "      <td>149527</td>\n",
       "      <td>812.539185</td>\n",
       "      <td>201596</td>\n",
       "      <td>1.209160</td>\n",
       "    </tr>\n",
       "    <tr>\n",
       "      <th>2</th>\n",
       "      <td>149526</td>\n",
       "      <td>810.326745</td>\n",
       "      <td>224558</td>\n",
       "      <td>1.082562</td>\n",
       "    </tr>\n",
       "    <tr>\n",
       "      <th>3</th>\n",
       "      <td>149518</td>\n",
       "      <td>812.991349</td>\n",
       "      <td>279023</td>\n",
       "      <td>0.874112</td>\n",
       "    </tr>\n",
       "    <tr>\n",
       "      <th>4</th>\n",
       "      <td>149517</td>\n",
       "      <td>814.681132</td>\n",
       "      <td>246825</td>\n",
       "      <td>0.990193</td>\n",
       "    </tr>\n",
       "  </tbody>\n",
       "</table>\n",
       "</div>"
      ],
      "text/plain": [
       "   height  block_per_day  nethash    profit\n",
       "0  149530     811.984943   273523  0.890585\n",
       "1  149527     812.539185   201596  1.209160\n",
       "2  149526     810.326745   224558  1.082562\n",
       "3  149518     812.991349   279023  0.874112\n",
       "4  149517     814.681132   246825  0.990193"
      ]
     },
     "execution_count": 28,
     "metadata": {},
     "output_type": "execute_result"
    }
   ],
   "source": [
    "df_pow_nethash_block[\"profit\"]=df_pow_nethash_block[\"block_per_day\"]*our_nethash/df_pow_nethash_block[\"nethash\"]*coin_per_block\n",
    "df_pow_nethash_block_profit = df_pow_nethash_block\n",
    "df_pow_nethash_block_profit.head(5)"
   ]
  },
  {
   "cell_type": "code",
   "execution_count": 36,
   "metadata": {},
   "outputs": [
    {
     "data": {
      "image/png": "[encoded data removed]",
      "text/plain": [
       "<Figure size 1440x1080 with 3 Axes>"
      ]
     },
     "metadata": {},
     "output_type": "display_data"
    }
   ],
   "source": [
    "fig = plt.figure(figsize=(20,15))\n",
    "plt.subplot(3, 1, 1)\n",
    "plt.plot(df_pow_nethash_block_profit['height'], df_pow_nethash_block_profit['block_per_day'])\n",
    "plt.plot(df_pow_nethash_block_profit['height'], \n",
    "         [np.mean(df_pow_nethash_block_profit['block_per_day'])]*df_pow_nethash_block_profit['height'].count(), \n",
    "         linestyle = '--', linewidth = 1)\n",
    "\n",
    "plt.title('Block Speed')\n",
    "plt.xlabel('Block ID')\n",
    "plt.ylabel('Block/Day')\n",
    "\n",
    "plt.subplot(3, 1, 2)\n",
    "plt.plot(df_pow_nethash_block_profit['height'], df_pow_nethash_block_profit['nethash'], color='red')\n",
    "plt.plot(df_pow_nethash_block_profit['height'], \n",
    "         [np.mean(df_pow_nethash_block_profit['nethash'])]*df_pow_nethash_block_profit['height'].count(), \n",
    "         linestyle = '--', linewidth = 1)\n",
    "plt.title('Globle Nethash (GH)')\n",
    "plt.xlabel('Block ID')\n",
    "plt.ylabel('Nethash')\n",
    "\n",
    "plt.subplot(3, 1, 3)\n",
    "plt.plot(df_pow_nethash_block_profit['height'], df_pow_nethash_block_profit['profit'], color='blue')\n",
    "plt.plot(df_pow_nethash_block_profit['height'], \n",
    "         [np.mean(df_pow_nethash_block_profit['profit'])]*df_pow_nethash_block_profit['height'].count(), \n",
    "         linestyle = '--', linewidth = 1)\n",
    "plt.title('Our Profit (Coin/Day)')\n",
    "plt.xlabel('Block ID')\n",
    "plt.ylabel('Nethash')\n",
    "\n",
    "plt.show()\n"
   ]
  },
  {
   "cell_type": "code",
   "execution_count": null,
   "metadata": {},
   "outputs": [],
   "source": []
  }
 ],
 "metadata": {
  "kernelspec": {
   "display_name": "Python 2",
   "language": "python",
   "name": "python2"
  },
  "language_info": {
   "codemirror_mode": {
    "name": "ipython",
    "version": 2
   },
   "file_extension": ".py",
   "mimetype": "text/x-python",
   "name": "python",
   "nbconvert_exporter": "python",
   "pygments_lexer": "ipython2",
   "version": "2.7.14"
  }
 },
 "nbformat": 4,
 "nbformat_minor": 2
}
